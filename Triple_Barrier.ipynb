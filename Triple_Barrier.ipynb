{
 "cells": [
  {
   "cell_type": "code",
   "execution_count": 1,
   "metadata": {
    "pycharm": {
     "name": "#%%\n"
    }
   },
   "outputs": [],
   "source": [
    "import numpy as np\n",
    "import pandas as pd\n",
    "import pickle\n",
    "import datetime\n",
    "import matplotlib.pyplot as plt"
   ]
  },
  {
   "cell_type": "code",
   "execution_count": 2,
   "metadata": {
    "pycharm": {
     "name": "#%%\n"
    }
   },
   "outputs": [
    {
     "name": "stdout",
     "output_type": "stream",
     "text": [
      "127807@wmcloud.com 账号登录成功\n"
     ]
    }
   ],
   "source": [
    "import uqer\n",
    "from uqer import DataAPI   #优矿api\n",
    "client = uqer.Client(token='18266a7c0ac9f8cdbe00f9b2ecb65f42316a5f78d9cc22ebabcbd923593356e4')"
   ]
  },
  {
   "cell_type": "code",
   "execution_count": 19,
   "metadata": {
    "pycharm": {
     "name": "#%%\n"
    }
   },
   "outputs": [
    {
     "name": "stderr",
     "output_type": "stream",
     "text": [
      "/workspace1/liufengyuan/.local/lib/python3.6/site-packages/ipykernel_launcher.py:6: SettingWithCopyWarning: \n",
      "A value is trying to be set on a copy of a slice from a DataFrame.\n",
      "Try using .loc[row_indexer,col_indexer] = value instead\n",
      "\n",
      "See the caveats in the documentation: https://pandas.pydata.org/pandas-docs/stable/user_guide/indexing.html#returning-a-view-versus-a-copy\n",
      "  \n"
     ]
    },
    {
     "data": {
      "text/html": [
       "<div>\n",
       "<style scoped>\n",
       "    .dataframe tbody tr th:only-of-type {\n",
       "        vertical-align: middle;\n",
       "    }\n",
       "\n",
       "    .dataframe tbody tr th {\n",
       "        vertical-align: top;\n",
       "    }\n",
       "\n",
       "    .dataframe thead th {\n",
       "        text-align: right;\n",
       "    }\n",
       "</style>\n",
       "<table border=\"1\" class=\"dataframe\">\n",
       "  <thead>\n",
       "    <tr style=\"text-align: right;\">\n",
       "      <th></th>\n",
       "      <th></th>\n",
       "      <th>openPrice</th>\n",
       "      <th>highestPrice</th>\n",
       "      <th>lowestPrice</th>\n",
       "      <th>closePrice</th>\n",
       "      <th>turnoverVol</th>\n",
       "    </tr>\n",
       "    <tr>\n",
       "      <th>ticker</th>\n",
       "      <th>tradeDate</th>\n",
       "      <th></th>\n",
       "      <th></th>\n",
       "      <th></th>\n",
       "      <th></th>\n",
       "      <th></th>\n",
       "    </tr>\n",
       "  </thead>\n",
       "  <tbody>\n",
       "    <tr>\n",
       "      <th rowspan=\"6\" valign=\"top\">000001</th>\n",
       "      <th>2017-01-03</th>\n",
       "      <td>9.11</td>\n",
       "      <td>9.18</td>\n",
       "      <td>9.09</td>\n",
       "      <td>9.16</td>\n",
       "      <td>45984049</td>\n",
       "    </tr>\n",
       "    <tr>\n",
       "      <th>2017-01-04</th>\n",
       "      <td>9.15</td>\n",
       "      <td>9.18</td>\n",
       "      <td>9.14</td>\n",
       "      <td>9.16</td>\n",
       "      <td>44932953</td>\n",
       "    </tr>\n",
       "    <tr>\n",
       "      <th>2017-01-05</th>\n",
       "      <td>9.17</td>\n",
       "      <td>9.18</td>\n",
       "      <td>9.15</td>\n",
       "      <td>9.17</td>\n",
       "      <td>34437291</td>\n",
       "    </tr>\n",
       "    <tr>\n",
       "      <th>2022-05-30</th>\n",
       "      <td>14.26</td>\n",
       "      <td>14.28</td>\n",
       "      <td>14.04</td>\n",
       "      <td>14.08</td>\n",
       "      <td>89690123</td>\n",
       "    </tr>\n",
       "    <tr>\n",
       "      <th>2022-05-31</th>\n",
       "      <td>14.07</td>\n",
       "      <td>14.18</td>\n",
       "      <td>14.00</td>\n",
       "      <td>14.16</td>\n",
       "      <td>93886855</td>\n",
       "    </tr>\n",
       "    <tr>\n",
       "      <th>2022-06-01</th>\n",
       "      <td>14.14</td>\n",
       "      <td>14.14</td>\n",
       "      <td>14.00</td>\n",
       "      <td>14.08</td>\n",
       "      <td>84529898</td>\n",
       "    </tr>\n",
       "  </tbody>\n",
       "</table>\n",
       "</div>"
      ],
      "text/plain": [
       "                   openPrice  highestPrice  lowestPrice  closePrice  \\\n",
       "ticker tradeDate                                                      \n",
       "000001 2017-01-03       9.11          9.18         9.09        9.16   \n",
       "       2017-01-04       9.15          9.18         9.14        9.16   \n",
       "       2017-01-05       9.17          9.18         9.15        9.17   \n",
       "       2022-05-30      14.26         14.28        14.04       14.08   \n",
       "       2022-05-31      14.07         14.18        14.00       14.16   \n",
       "       2022-06-01      14.14         14.14        14.00       14.08   \n",
       "\n",
       "                   turnoverVol  \n",
       "ticker tradeDate                \n",
       "000001 2017-01-03     45984049  \n",
       "       2017-01-04     44932953  \n",
       "       2017-01-05     34437291  \n",
       "       2022-05-30     89690123  \n",
       "       2022-05-31     93886855  \n",
       "       2022-06-01     84529898  "
      ]
     },
     "execution_count": 19,
     "metadata": {},
     "output_type": "execute_result"
    }
   ],
   "source": [
    "\n",
    "#outData = pd.DataFrame()\n",
    "#for tempticker in data.ticker.unique():\n",
    "#    print(tempticker)\n",
    "outData = DataAPI.MktEqudGet(ticker='000001', beginDate='2017-01-03', endDate='2022-06-01', pandas=\"1\")\n",
    "outData = outData[['ticker', 'tradeDate', 'openPrice', 'highestPrice', 'lowestPrice', 'closePrice', 'turnoverVol']]\n",
    "outData['tradeDate'] = pd.to_datetime(outData['tradeDate'], format = '%Y-%m-%d')\n",
    "outData = outData.set_index(['ticker', 'tradeDate'])\n",
    "#    outData = outData.append(temp_outData)\n",
    "outData.head(3).append(outData.tail(3))"
   ]
  },
  {
   "cell_type": "code",
   "execution_count": 4,
   "metadata": {
    "pycharm": {
     "name": "#%%\n"
    }
   },
   "outputs": [],
   "source": [
    "def getDailyVol(close, span0 = 22):\n",
    "    #daily vol, reindexed to close\n",
    "    close['return'] = close.groupby(['ticker'])['closePrice'].apply(lambda x: x/x.shift(1) - 1)\n",
    "    # 22 days, a month EWM's std as boundary\n",
    "    outData['Volatility'] = close.groupby(['ticker'])['return'].apply(lambda x: x.ewm(span=span0).std())"
   ]
  },
  {
   "cell_type": "code",
   "execution_count": 20,
   "metadata": {},
   "outputs": [
    {
     "data": {
      "text/html": [
       "<div>\n",
       "<style scoped>\n",
       "    .dataframe tbody tr th:only-of-type {\n",
       "        vertical-align: middle;\n",
       "    }\n",
       "\n",
       "    .dataframe tbody tr th {\n",
       "        vertical-align: top;\n",
       "    }\n",
       "\n",
       "    .dataframe thead th {\n",
       "        text-align: right;\n",
       "    }\n",
       "</style>\n",
       "<table border=\"1\" class=\"dataframe\">\n",
       "  <thead>\n",
       "    <tr style=\"text-align: right;\">\n",
       "      <th></th>\n",
       "      <th></th>\n",
       "      <th>openPrice</th>\n",
       "      <th>highestPrice</th>\n",
       "      <th>lowestPrice</th>\n",
       "      <th>closePrice</th>\n",
       "      <th>turnoverVol</th>\n",
       "      <th>return</th>\n",
       "      <th>Volatility</th>\n",
       "    </tr>\n",
       "    <tr>\n",
       "      <th>ticker</th>\n",
       "      <th>tradeDate</th>\n",
       "      <th></th>\n",
       "      <th></th>\n",
       "      <th></th>\n",
       "      <th></th>\n",
       "      <th></th>\n",
       "      <th></th>\n",
       "      <th></th>\n",
       "    </tr>\n",
       "  </thead>\n",
       "  <tbody>\n",
       "    <tr>\n",
       "      <th rowspan=\"11\" valign=\"top\">000001</th>\n",
       "      <th>2017-01-03</th>\n",
       "      <td>9.11</td>\n",
       "      <td>9.18</td>\n",
       "      <td>9.09</td>\n",
       "      <td>9.16</td>\n",
       "      <td>45984049</td>\n",
       "      <td>NaN</td>\n",
       "      <td>NaN</td>\n",
       "    </tr>\n",
       "    <tr>\n",
       "      <th>2017-01-04</th>\n",
       "      <td>9.15</td>\n",
       "      <td>9.18</td>\n",
       "      <td>9.14</td>\n",
       "      <td>9.16</td>\n",
       "      <td>44932953</td>\n",
       "      <td>0.000000</td>\n",
       "      <td>NaN</td>\n",
       "    </tr>\n",
       "    <tr>\n",
       "      <th>2017-01-05</th>\n",
       "      <td>9.17</td>\n",
       "      <td>9.18</td>\n",
       "      <td>9.15</td>\n",
       "      <td>9.17</td>\n",
       "      <td>34437291</td>\n",
       "      <td>0.001092</td>\n",
       "      <td>0.000772</td>\n",
       "    </tr>\n",
       "    <tr>\n",
       "      <th>2017-01-06</th>\n",
       "      <td>9.17</td>\n",
       "      <td>9.17</td>\n",
       "      <td>9.11</td>\n",
       "      <td>9.13</td>\n",
       "      <td>35815420</td>\n",
       "      <td>-0.004362</td>\n",
       "      <td>0.002959</td>\n",
       "    </tr>\n",
       "    <tr>\n",
       "      <th>2017-01-09</th>\n",
       "      <td>9.13</td>\n",
       "      <td>9.17</td>\n",
       "      <td>9.11</td>\n",
       "      <td>9.15</td>\n",
       "      <td>36108157</td>\n",
       "      <td>0.002191</td>\n",
       "      <td>0.002958</td>\n",
       "    </tr>\n",
       "    <tr>\n",
       "      <th>...</th>\n",
       "      <td>...</td>\n",
       "      <td>...</td>\n",
       "      <td>...</td>\n",
       "      <td>...</td>\n",
       "      <td>...</td>\n",
       "      <td>...</td>\n",
       "      <td>...</td>\n",
       "    </tr>\n",
       "    <tr>\n",
       "      <th>2022-05-26</th>\n",
       "      <td>14.41</td>\n",
       "      <td>14.43</td>\n",
       "      <td>14.07</td>\n",
       "      <td>14.19</td>\n",
       "      <td>101131756</td>\n",
       "      <td>-0.013899</td>\n",
       "      <td>0.020945</td>\n",
       "    </tr>\n",
       "    <tr>\n",
       "      <th>2022-05-27</th>\n",
       "      <td>14.29</td>\n",
       "      <td>14.35</td>\n",
       "      <td>14.11</td>\n",
       "      <td>14.18</td>\n",
       "      <td>72306674</td>\n",
       "      <td>-0.000705</td>\n",
       "      <td>0.020034</td>\n",
       "    </tr>\n",
       "    <tr>\n",
       "      <th>2022-05-30</th>\n",
       "      <td>14.26</td>\n",
       "      <td>14.28</td>\n",
       "      <td>14.04</td>\n",
       "      <td>14.08</td>\n",
       "      <td>89690123</td>\n",
       "      <td>-0.007052</td>\n",
       "      <td>0.019169</td>\n",
       "    </tr>\n",
       "    <tr>\n",
       "      <th>2022-05-31</th>\n",
       "      <td>14.07</td>\n",
       "      <td>14.18</td>\n",
       "      <td>14.00</td>\n",
       "      <td>14.16</td>\n",
       "      <td>93886855</td>\n",
       "      <td>0.005682</td>\n",
       "      <td>0.018524</td>\n",
       "    </tr>\n",
       "    <tr>\n",
       "      <th>2022-06-01</th>\n",
       "      <td>14.14</td>\n",
       "      <td>14.14</td>\n",
       "      <td>14.00</td>\n",
       "      <td>14.08</td>\n",
       "      <td>84529898</td>\n",
       "      <td>-0.005650</td>\n",
       "      <td>0.017716</td>\n",
       "    </tr>\n",
       "  </tbody>\n",
       "</table>\n",
       "<p>1314 rows × 7 columns</p>\n",
       "</div>"
      ],
      "text/plain": [
       "                   openPrice  highestPrice  lowestPrice  closePrice  \\\n",
       "ticker tradeDate                                                      \n",
       "000001 2017-01-03       9.11          9.18         9.09        9.16   \n",
       "       2017-01-04       9.15          9.18         9.14        9.16   \n",
       "       2017-01-05       9.17          9.18         9.15        9.17   \n",
       "       2017-01-06       9.17          9.17         9.11        9.13   \n",
       "       2017-01-09       9.13          9.17         9.11        9.15   \n",
       "...                      ...           ...          ...         ...   \n",
       "       2022-05-26      14.41         14.43        14.07       14.19   \n",
       "       2022-05-27      14.29         14.35        14.11       14.18   \n",
       "       2022-05-30      14.26         14.28        14.04       14.08   \n",
       "       2022-05-31      14.07         14.18        14.00       14.16   \n",
       "       2022-06-01      14.14         14.14        14.00       14.08   \n",
       "\n",
       "                   turnoverVol    return  Volatility  \n",
       "ticker tradeDate                                      \n",
       "000001 2017-01-03     45984049       NaN         NaN  \n",
       "       2017-01-04     44932953  0.000000         NaN  \n",
       "       2017-01-05     34437291  0.001092    0.000772  \n",
       "       2017-01-06     35815420 -0.004362    0.002959  \n",
       "       2017-01-09     36108157  0.002191    0.002958  \n",
       "...                        ...       ...         ...  \n",
       "       2022-05-26    101131756 -0.013899    0.020945  \n",
       "       2022-05-27     72306674 -0.000705    0.020034  \n",
       "       2022-05-30     89690123 -0.007052    0.019169  \n",
       "       2022-05-31     93886855  0.005682    0.018524  \n",
       "       2022-06-01     84529898 -0.005650    0.017716  \n",
       "\n",
       "[1314 rows x 7 columns]"
      ]
     },
     "execution_count": 20,
     "metadata": {},
     "output_type": "execute_result"
    }
   ],
   "source": [
    "getDailyVol(outData)\n",
    "outData"
   ]
  },
  {
   "cell_type": "code",
   "execution_count": 65,
   "metadata": {
    "pycharm": {
     "name": "#%%\n"
    }
   },
   "outputs": [],
   "source": [
    "def Triple_Barriers(df, width): # [3:1]\n",
    "\n",
    "    # get result Dataframe pd.Timedelta(days = 15)\n",
    "    result = df[['closePrice', 'Volatility']].copy(deep = True) # index: (ticker, tradeDate); columns: closePrice, Volatility\n",
    "    result[['TB', 'UB', 'LB']] = np.nan\n",
    "\n",
    "    # deal with each stock\n",
    "    for tempticker in result.index.get_level_values('ticker').unique():\n",
    "\n",
    "        # get the barrier of each stock\n",
    "        print(tempticker)\n",
    "        df_temp = result.loc[tempticker]\n",
    "        # set time boundary, upper boundary, or lower boundary\n",
    "        for date, price, vol in df_temp[['closePrice', 'Volatility']].itertuples():\n",
    "\n",
    "            # set the time boundary \n",
    "            time_span = 10\n",
    "            d_index = len(df_temp.loc[df_temp.index[0] : date])\n",
    "            if (d_index + time_span < len(df_temp.index) and time_span != 0):\n",
    "                T_Barrier = df_temp.index[d_index + time_span]\n",
    "            #result.loc[(result.tradeDate==date) & (result.ticker==tempticker), 'TB'] = date + pd.Timedelta(days = time_span)\n",
    "            \n",
    "            # set the upperbound\n",
    "            if width[0] > 0: \n",
    "                U_Barrier = price*(1 + width[0]*vol)\n",
    "                #result.loc[(result.tradeDate==date) & (result.ticker==tempticker), 'UB'] = price*(1 + width[0]*vol)\n",
    "\n",
    "            # set the lowerbound\n",
    "            if width[1] > 0: \n",
    "                L_Barrier = price*(1 - width[0]*vol)\n",
    "                #result.loc[(result.tradeDate==date) & (result.ticker==tempticker), 'LB'] = price*(1 - width[1]*vol)\n",
    "\n",
    "            result.loc[(tempticker, date), ['TB', 'UB', 'LB']] = T_Barrier, U_Barrier, L_Barrier\n",
    "\n",
    "            \"\"\"\n",
    "            # get the time interval between the begin date (tradeDate) and the time bound\n",
    "            df0 = df[(df['tradeDate'] > date) & (df['tradeDate'] < tb)].copy(deep=True)\n",
    "\n",
    "            # get the return of each tradeDate relative to the begin date\n",
    "            df0['Return'] = df0['closePrice'] / df[df.tradeDate == date]['closePrice'].iloc[0] - 1\n",
    "\n",
    "            # index of the begin date and ticker\n",
    "            idx = result.index[(result.tradeDate==date) & (result.ticker==tempticker)]\n",
    "            \n",
    "            # get the first time the stock touch the bounds\n",
    "            result.loc[idx,'ut'] = df0[df0['Return']>barrier[barrier.tradeDate==date]['UB'].iloc[0]]['tradeDate'].min()\n",
    "            result.loc[idx,'lt'] = df0[df0['Return']<barrier[barrier.tradeDate==date]['LB'].iloc[0]]['tradeDate'].min()\n",
    "            \"\"\"\n",
    "    return result[['closePrice', 'TB', 'UB', 'LB']]"
   ]
  },
  {
   "cell_type": "code",
   "execution_count": 116,
   "metadata": {},
   "outputs": [],
   "source": [
    "lower_B = 2\n",
    "upper_B = 3*lower_B"
   ]
  },
  {
   "cell_type": "code",
   "execution_count": 117,
   "metadata": {},
   "outputs": [
    {
     "name": "stdout",
     "output_type": "stream",
     "text": [
      "000001\n"
     ]
    },
    {
     "data": {
      "text/html": [
       "<div>\n",
       "<style scoped>\n",
       "    .dataframe tbody tr th:only-of-type {\n",
       "        vertical-align: middle;\n",
       "    }\n",
       "\n",
       "    .dataframe tbody tr th {\n",
       "        vertical-align: top;\n",
       "    }\n",
       "\n",
       "    .dataframe thead th {\n",
       "        text-align: right;\n",
       "    }\n",
       "</style>\n",
       "<table border=\"1\" class=\"dataframe\">\n",
       "  <thead>\n",
       "    <tr style=\"text-align: right;\">\n",
       "      <th></th>\n",
       "      <th></th>\n",
       "      <th>closePrice</th>\n",
       "      <th>TB</th>\n",
       "      <th>UB</th>\n",
       "      <th>LB</th>\n",
       "    </tr>\n",
       "    <tr>\n",
       "      <th>ticker</th>\n",
       "      <th>tradeDate</th>\n",
       "      <th></th>\n",
       "      <th></th>\n",
       "      <th></th>\n",
       "      <th></th>\n",
       "    </tr>\n",
       "  </thead>\n",
       "  <tbody>\n",
       "    <tr>\n",
       "      <th rowspan=\"11\" valign=\"top\">000001</th>\n",
       "      <th>2017-01-03</th>\n",
       "      <td>9.16</td>\n",
       "      <td>2017-01-18 00:00:00</td>\n",
       "      <td>NaN</td>\n",
       "      <td>NaN</td>\n",
       "    </tr>\n",
       "    <tr>\n",
       "      <th>2017-01-04</th>\n",
       "      <td>9.16</td>\n",
       "      <td>2017-01-19 00:00:00</td>\n",
       "      <td>NaN</td>\n",
       "      <td>NaN</td>\n",
       "    </tr>\n",
       "    <tr>\n",
       "      <th>2017-01-05</th>\n",
       "      <td>9.17</td>\n",
       "      <td>2017-01-20 00:00:00</td>\n",
       "      <td>9.212473</td>\n",
       "      <td>9.127527</td>\n",
       "    </tr>\n",
       "    <tr>\n",
       "      <th>2017-01-06</th>\n",
       "      <td>9.13</td>\n",
       "      <td>2017-01-23 00:00:00</td>\n",
       "      <td>9.292114</td>\n",
       "      <td>8.967886</td>\n",
       "    </tr>\n",
       "    <tr>\n",
       "      <th>2017-01-09</th>\n",
       "      <td>9.15</td>\n",
       "      <td>2017-01-24 00:00:00</td>\n",
       "      <td>9.312404</td>\n",
       "      <td>8.987596</td>\n",
       "    </tr>\n",
       "    <tr>\n",
       "      <th>...</th>\n",
       "      <td>...</td>\n",
       "      <td>...</td>\n",
       "      <td>...</td>\n",
       "      <td>...</td>\n",
       "    </tr>\n",
       "    <tr>\n",
       "      <th>2022-05-26</th>\n",
       "      <td>14.19</td>\n",
       "      <td>2022-06-01 00:00:00</td>\n",
       "      <td>15.973228</td>\n",
       "      <td>12.406772</td>\n",
       "    </tr>\n",
       "    <tr>\n",
       "      <th>2022-05-27</th>\n",
       "      <td>14.18</td>\n",
       "      <td>2022-06-01 00:00:00</td>\n",
       "      <td>15.884508</td>\n",
       "      <td>12.475492</td>\n",
       "    </tr>\n",
       "    <tr>\n",
       "      <th>2022-05-30</th>\n",
       "      <td>14.08</td>\n",
       "      <td>2022-06-01 00:00:00</td>\n",
       "      <td>15.699415</td>\n",
       "      <td>12.460585</td>\n",
       "    </tr>\n",
       "    <tr>\n",
       "      <th>2022-05-31</th>\n",
       "      <td>14.16</td>\n",
       "      <td>2022-06-01 00:00:00</td>\n",
       "      <td>15.733803</td>\n",
       "      <td>12.586197</td>\n",
       "    </tr>\n",
       "    <tr>\n",
       "      <th>2022-06-01</th>\n",
       "      <td>14.08</td>\n",
       "      <td>2022-06-01 00:00:00</td>\n",
       "      <td>15.576650</td>\n",
       "      <td>12.583350</td>\n",
       "    </tr>\n",
       "  </tbody>\n",
       "</table>\n",
       "<p>1314 rows × 4 columns</p>\n",
       "</div>"
      ],
      "text/plain": [
       "                   closePrice                   TB         UB         LB\n",
       "ticker tradeDate                                                        \n",
       "000001 2017-01-03        9.16  2017-01-18 00:00:00        NaN        NaN\n",
       "       2017-01-04        9.16  2017-01-19 00:00:00        NaN        NaN\n",
       "       2017-01-05        9.17  2017-01-20 00:00:00   9.212473   9.127527\n",
       "       2017-01-06        9.13  2017-01-23 00:00:00   9.292114   8.967886\n",
       "       2017-01-09        9.15  2017-01-24 00:00:00   9.312404   8.987596\n",
       "...                       ...                  ...        ...        ...\n",
       "       2022-05-26       14.19  2022-06-01 00:00:00  15.973228  12.406772\n",
       "       2022-05-27       14.18  2022-06-01 00:00:00  15.884508  12.475492\n",
       "       2022-05-30       14.08  2022-06-01 00:00:00  15.699415  12.460585\n",
       "       2022-05-31       14.16  2022-06-01 00:00:00  15.733803  12.586197\n",
       "       2022-06-01       14.08  2022-06-01 00:00:00  15.576650  12.583350\n",
       "\n",
       "[1314 rows x 4 columns]"
      ]
     },
     "execution_count": 117,
     "metadata": {},
     "output_type": "execute_result"
    }
   ],
   "source": [
    "result = Triple_Barriers(outData, [upper_B, lower_B])\n",
    "result"
   ]
  },
  {
   "cell_type": "code",
   "execution_count": 113,
   "metadata": {},
   "outputs": [],
   "source": [
    "def get_label():\n",
    "    result['label'] = np.nan\n",
    "\n",
    "    # deal with each stock\n",
    "    for tempticker in result.index.get_level_values('ticker').unique():\n",
    "\n",
    "        # get the barrier of each stock\n",
    "        print(tempticker)\n",
    "        df_temp = result.loc[tempticker]\n",
    "        # set time boundary, upper boundary, or lower boundary\n",
    "        for index in range(len(df_temp.index)):\n",
    "            begin_day = df_temp.index[index]\n",
    "            end_day = df_temp.TB[index]\n",
    "\n",
    "            if pd.notna(end_day):\n",
    "                begin_price = df_temp.closePrice[begin_day]\n",
    "                end_price = df_temp.closePrice[end_day]\n",
    "\n",
    "                UB = df_temp.UB[begin_day]\n",
    "                LB = df_temp.LB[begin_day]\n",
    "\n",
    "                PT_condition = (df_temp.closePrice[begin_day:end_day] >= UB).any()\n",
    "                SL_condition = (df_temp.closePrice[begin_day:end_day] <= LB).any()\n",
    "\n",
    "                if PT_condition and SL_condition:\n",
    "                    profit_taking_index = df_temp[begin_day:end_day][df_temp.closePrice[begin_day:end_day] >= UB].index.min()\n",
    "                    stop_loss_index = df_temp[begin_day:end_day][df_temp.closePrice[begin_day:end_day] <= LB].index.min()\n",
    "                    if profit_taking_index < stop_loss_index:\n",
    "                        result.loc[(tempticker, begin_day), 'label'] = 1\n",
    "                    else:\n",
    "                        result.loc[(tempticker, begin_day), 'label'] = -1\n",
    "                elif PT_condition:\n",
    "                    result.loc[(tempticker, begin_day), 'label'] = 1\n",
    "                elif SL_condition:\n",
    "                    result.loc[(tempticker, begin_day), 'label'] = -1\n",
    "                else:\n",
    "                    price_diff = end_price - begin_price\n",
    "                    if price_diff >= 0:\n",
    "                        result.loc[(tempticker, begin_day), 'label'] = price_diff/(UB - begin_price)\n",
    "                    else:\n",
    "                        result.loc[(tempticker, begin_day), 'label'] = price_diff/(begin_price - LB)"
   ]
  },
  {
   "cell_type": "code",
   "execution_count": 118,
   "metadata": {},
   "outputs": [
    {
     "name": "stdout",
     "output_type": "stream",
     "text": [
      "000001\n"
     ]
    },
    {
     "data": {
      "text/html": [
       "<div>\n",
       "<style scoped>\n",
       "    .dataframe tbody tr th:only-of-type {\n",
       "        vertical-align: middle;\n",
       "    }\n",
       "\n",
       "    .dataframe tbody tr th {\n",
       "        vertical-align: top;\n",
       "    }\n",
       "\n",
       "    .dataframe thead th {\n",
       "        text-align: right;\n",
       "    }\n",
       "</style>\n",
       "<table border=\"1\" class=\"dataframe\">\n",
       "  <thead>\n",
       "    <tr style=\"text-align: right;\">\n",
       "      <th></th>\n",
       "      <th></th>\n",
       "      <th>closePrice</th>\n",
       "      <th>TB</th>\n",
       "      <th>UB</th>\n",
       "      <th>LB</th>\n",
       "      <th>label</th>\n",
       "    </tr>\n",
       "    <tr>\n",
       "      <th>ticker</th>\n",
       "      <th>tradeDate</th>\n",
       "      <th></th>\n",
       "      <th></th>\n",
       "      <th></th>\n",
       "      <th></th>\n",
       "      <th></th>\n",
       "    </tr>\n",
       "  </thead>\n",
       "  <tbody>\n",
       "    <tr>\n",
       "      <th rowspan=\"11\" valign=\"top\">000001</th>\n",
       "      <th>2017-01-03</th>\n",
       "      <td>9.16</td>\n",
       "      <td>2017-01-18 00:00:00</td>\n",
       "      <td>NaN</td>\n",
       "      <td>NaN</td>\n",
       "      <td>NaN</td>\n",
       "    </tr>\n",
       "    <tr>\n",
       "      <th>2017-01-04</th>\n",
       "      <td>9.16</td>\n",
       "      <td>2017-01-19 00:00:00</td>\n",
       "      <td>NaN</td>\n",
       "      <td>NaN</td>\n",
       "      <td>NaN</td>\n",
       "    </tr>\n",
       "    <tr>\n",
       "      <th>2017-01-05</th>\n",
       "      <td>9.17</td>\n",
       "      <td>2017-01-20 00:00:00</td>\n",
       "      <td>9.212473</td>\n",
       "      <td>9.127527</td>\n",
       "      <td>1.000000</td>\n",
       "    </tr>\n",
       "    <tr>\n",
       "      <th>2017-01-06</th>\n",
       "      <td>9.13</td>\n",
       "      <td>2017-01-23 00:00:00</td>\n",
       "      <td>9.292114</td>\n",
       "      <td>8.967886</td>\n",
       "      <td>0.555166</td>\n",
       "    </tr>\n",
       "    <tr>\n",
       "      <th>2017-01-09</th>\n",
       "      <td>9.15</td>\n",
       "      <td>2017-01-24 00:00:00</td>\n",
       "      <td>9.312404</td>\n",
       "      <td>8.987596</td>\n",
       "      <td>0.738897</td>\n",
       "    </tr>\n",
       "    <tr>\n",
       "      <th>...</th>\n",
       "      <td>...</td>\n",
       "      <td>...</td>\n",
       "      <td>...</td>\n",
       "      <td>...</td>\n",
       "      <td>...</td>\n",
       "    </tr>\n",
       "    <tr>\n",
       "      <th>2022-05-26</th>\n",
       "      <td>14.19</td>\n",
       "      <td>2022-06-01 00:00:00</td>\n",
       "      <td>15.973228</td>\n",
       "      <td>12.406772</td>\n",
       "      <td>-0.061686</td>\n",
       "    </tr>\n",
       "    <tr>\n",
       "      <th>2022-05-27</th>\n",
       "      <td>14.18</td>\n",
       "      <td>2022-06-01 00:00:00</td>\n",
       "      <td>15.884508</td>\n",
       "      <td>12.475492</td>\n",
       "      <td>-0.058668</td>\n",
       "    </tr>\n",
       "    <tr>\n",
       "      <th>2022-05-30</th>\n",
       "      <td>14.08</td>\n",
       "      <td>2022-06-01 00:00:00</td>\n",
       "      <td>15.699415</td>\n",
       "      <td>12.460585</td>\n",
       "      <td>0.000000</td>\n",
       "    </tr>\n",
       "    <tr>\n",
       "      <th>2022-05-31</th>\n",
       "      <td>14.16</td>\n",
       "      <td>2022-06-01 00:00:00</td>\n",
       "      <td>15.733803</td>\n",
       "      <td>12.586197</td>\n",
       "      <td>-0.050832</td>\n",
       "    </tr>\n",
       "    <tr>\n",
       "      <th>2022-06-01</th>\n",
       "      <td>14.08</td>\n",
       "      <td>2022-06-01 00:00:00</td>\n",
       "      <td>15.576650</td>\n",
       "      <td>12.583350</td>\n",
       "      <td>0.000000</td>\n",
       "    </tr>\n",
       "  </tbody>\n",
       "</table>\n",
       "<p>1314 rows × 5 columns</p>\n",
       "</div>"
      ],
      "text/plain": [
       "                   closePrice                   TB         UB         LB  \\\n",
       "ticker tradeDate                                                           \n",
       "000001 2017-01-03        9.16  2017-01-18 00:00:00        NaN        NaN   \n",
       "       2017-01-04        9.16  2017-01-19 00:00:00        NaN        NaN   \n",
       "       2017-01-05        9.17  2017-01-20 00:00:00   9.212473   9.127527   \n",
       "       2017-01-06        9.13  2017-01-23 00:00:00   9.292114   8.967886   \n",
       "       2017-01-09        9.15  2017-01-24 00:00:00   9.312404   8.987596   \n",
       "...                       ...                  ...        ...        ...   \n",
       "       2022-05-26       14.19  2022-06-01 00:00:00  15.973228  12.406772   \n",
       "       2022-05-27       14.18  2022-06-01 00:00:00  15.884508  12.475492   \n",
       "       2022-05-30       14.08  2022-06-01 00:00:00  15.699415  12.460585   \n",
       "       2022-05-31       14.16  2022-06-01 00:00:00  15.733803  12.586197   \n",
       "       2022-06-01       14.08  2022-06-01 00:00:00  15.576650  12.583350   \n",
       "\n",
       "                      label  \n",
       "ticker tradeDate             \n",
       "000001 2017-01-03       NaN  \n",
       "       2017-01-04       NaN  \n",
       "       2017-01-05  1.000000  \n",
       "       2017-01-06  0.555166  \n",
       "       2017-01-09  0.738897  \n",
       "...                     ...  \n",
       "       2022-05-26 -0.061686  \n",
       "       2022-05-27 -0.058668  \n",
       "       2022-05-30  0.000000  \n",
       "       2022-05-31 -0.050832  \n",
       "       2022-06-01  0.000000  \n",
       "\n",
       "[1314 rows x 5 columns]"
      ]
     },
     "execution_count": 118,
     "metadata": {},
     "output_type": "execute_result"
    }
   ],
   "source": [
    "get_label()\n",
    "result"
   ]
  },
  {
   "cell_type": "code",
   "execution_count": 123,
   "metadata": {},
   "outputs": [
    {
     "data": {
      "text/plain": [
       " 1.000000    150\n",
       "-1.000000     81\n",
       " 0.000000      7\n",
       "-0.144975      1\n",
       " 0.139237      1\n",
       "            ... \n",
       "-0.069744      1\n",
       "-0.570518      1\n",
       "-0.152340      1\n",
       " 0.589398      1\n",
       "-0.145373      1\n",
       "Name: label, Length: 1077, dtype: int64"
      ]
     },
     "execution_count": 123,
     "metadata": {},
     "output_type": "execute_result"
    }
   ],
   "source": [
    "result.label.value_counts()"
   ]
  },
  {
   "cell_type": "code",
   "execution_count": 129,
   "metadata": {},
   "outputs": [
    {
     "data": {
      "text/plain": [
       "tradeDate\n",
       "2017-01-03         NaN\n",
       "2017-01-04         NaN\n",
       "2017-01-05    1.000000\n",
       "2017-01-06    0.555166\n",
       "2017-01-09    0.738897\n",
       "                ...   \n",
       "2022-05-26   -0.061686\n",
       "2022-05-27   -0.058668\n",
       "2022-05-30    0.000000\n",
       "2022-05-31   -0.050832\n",
       "2022-06-01    0.000000\n",
       "Name: label, Length: 1314, dtype: float64"
      ]
     },
     "execution_count": 129,
     "metadata": {},
     "output_type": "execute_result"
    }
   ],
   "source": [
    "result.loc['000001'].label"
   ]
  },
  {
   "cell_type": "code",
   "execution_count": 128,
   "metadata": {},
   "outputs": [
    {
     "data": {
      "text/plain": [
       "tradeDate\n",
       "2017-01-03         NaN\n",
       "2017-01-04         NaN\n",
       "2017-01-05    1.000000\n",
       "2017-01-06    0.555166\n",
       "2017-01-09    0.738897\n",
       "                ...   \n",
       "2022-05-26   -0.061686\n",
       "2022-05-27   -0.058668\n",
       "2022-05-30    0.000000\n",
       "2022-05-31   -0.050832\n",
       "2022-06-01    0.000000\n",
       "Name: label, Length: 1314, dtype: float64"
      ]
     },
     "execution_count": 128,
     "metadata": {},
     "output_type": "execute_result"
    }
   ],
   "source": [
    "result.label['000001']"
   ]
  },
  {
   "cell_type": "code",
   "execution_count": 130,
   "metadata": {},
   "outputs": [
    {
     "data": {
      "text/plain": [
       "[<matplotlib.lines.Line2D at 0x7f78eba7e128>]"
      ]
     },
     "execution_count": 130,
     "metadata": {},
     "output_type": "execute_result"
    },
    {
     "data": {
      "image/png": "[encoded data removed]",
      "text/plain": [
       "<Figure size 432x288 with 1 Axes>"
      ]
     },
     "metadata": {
      "needs_background": "light"
     },
     "output_type": "display_data"
    }
   ],
   "source": [
    "plt.plot(result.loc['000001'].label,'bo')"
   ]
  },
  {
   "cell_type": "code",
   "execution_count": 140,
   "metadata": {},
   "outputs": [
    {
     "data": {
      "image/png": "[encoded data removed]",
      "text/plain": [
       "<Figure size 432x288 with 1 Axes>"
      ]
     },
     "metadata": {
      "needs_background": "light"
     },
     "output_type": "display_data"
    }
   ],
   "source": [
    "fig,ax = plt.subplots()\n",
    "ax.set(title='Apple stock price', xlabel='date', ylabel='price')\n",
    "ax.plot(result.loc['000001'].closePrice[50: 200])\n",
    "\n",
    "start = result.loc['000001'].index[120]\n",
    "end = result.loc['000001'].TB[120]\n",
    "upper_barrier = result.loc['000001'].UB[120]\n",
    "lower_barrier = result.loc['000001'].LB[120]\n",
    "\n",
    "ax.plot([start, end], [upper_barrier, upper_barrier], 'r--');\n",
    "ax.plot([start, end], [lower_barrier, lower_barrier], 'r--');\n",
    "ax.plot([start, end], [(lower_barrier + upper_barrier)*0.5, (lower_barrier + upper_barrier)*0.5], 'b--');\n",
    "ax.plot([start, start], [lower_barrier, upper_barrier], 'y-');\n",
    "ax.plot([end, end], [lower_barrier, upper_barrier], 'g-');"
   ]
  },
  {
   "cell_type": "code",
   "execution_count": 142,
   "metadata": {},
   "outputs": [
    {
     "data": {
      "image/png": "[encoded data removed]",
      "text/plain": [
       "<Figure size 432x288 with 1 Axes>"
      ]
     },
     "metadata": {
      "needs_background": "light"
     },
     "output_type": "display_data"
    }
   ],
   "source": [
    "fig,ax = plt.subplots()\n",
    "ax.set(title='Apple stock price',\n",
    "       xlabel='date', ylabel='price')\n",
    "ax.plot(result.loc['000001'].closePrice[100: 200])\n",
    "\n",
    "start = result.loc['000001'].index[120]\n",
    "end = result.loc['000001'].index[120+10]\n",
    "upper_barrier = result.loc['000001'].UB[120]\n",
    "lower_barrier = result.loc['000001'].LB[120]\n",
    "\n",
    "ax.plot(result.loc['000001'].index[120:120+10+1], result.loc['000001'].UB[start:end], 'r--');\n",
    "ax.plot(result.loc['000001'].index[120:120+10+1], result.loc['000001'].LB[start:end], 'r--');\n",
    "ax.plot([start, end], [(lower_barrier + upper_barrier)*0.5, (lower_barrier + upper_barrier)*0.5], 'b--');\n",
    "ax.plot([start, start], [lower_barrier, upper_barrier], 'y-');\n",
    "ax.plot([end, end], [result.loc['000001'].LB[end], result.loc['000001'].UB[end]], 'g-');"
   ]
  },
  {
   "cell_type": "code",
   "execution_count": null,
   "metadata": {},
   "outputs": [],
   "source": []
  },
  {
   "cell_type": "code",
   "execution_count": null,
   "metadata": {},
   "outputs": [],
   "source": []
  },
  {
   "cell_type": "code",
   "execution_count": null,
   "metadata": {},
   "outputs": [],
   "source": []
  },
  {
   "cell_type": "code",
   "execution_count": null,
   "metadata": {},
   "outputs": [],
   "source": []
  },
  {
   "cell_type": "code",
   "execution_count": null,
   "metadata": {},
   "outputs": [],
   "source": []
  },
  {
   "cell_type": "code",
   "execution_count": 41,
   "metadata": {
    "pycharm": {
     "name": "#%%\n"
    }
   },
   "outputs": [],
   "source": [
    "def get_first_touch(df, width):\n",
    "    result = Triple_Barriers(df, width)\n",
    "    # choose the min time value vertically (through columns)\n",
    "    result['First'] = result[['VB', 'ut', 'dt']].dropna(how='all').min(axis = 1)\n",
    "    return result"
   ]
  },
  {
   "cell_type": "code",
   "execution_count": null,
   "metadata": {
    "pycharm": {
     "name": "#%%\n"
    }
   },
   "outputs": [],
   "source": [
    "\n",
    "result = get_first_touch(result, [upper_B, lower_B])\n",
    "result.head().append(result.tail())\n",
    "#result.to_csv('TBML_get_first_touch.csv', index=False)"
   ]
  },
  {
   "cell_type": "code",
   "execution_count": null,
   "metadata": {
    "pycharm": {
     "name": "#%%\n"
    }
   },
   "outputs": [],
   "source": [
    "def get_label(df, result):\n",
    "    result = result.dropna(subset=['First'])\n",
    "    outcome = result[['ticker', 'tradeDate']]\n",
    "\n",
    "    price_t0 = pd.merge(result, df, on=['ticker', 'tradeDate'], how='left')['closePrice']\n",
    "    price_t1 = pd.merge(result, df, left_on=['ticker', 'First'], right_on=['ticker', 'tradeDate'], how='left')['closePrice']\n",
    "\n",
    "    outcome['Return'] = price_t1/price_t0 - 1\n",
    "    outcome['Label'] = np.sign(outcome['Return'])\n",
    "\n",
    "    return outcome.dropna()"
   ]
  },
  {
   "cell_type": "code",
   "execution_count": null,
   "metadata": {
    "pycharm": {
     "name": "#%%\n"
    }
   },
   "outputs": [
    {
     "data": {
      "text/html": [
       "<div>\n",
       "<style scoped>\n",
       "    .dataframe tbody tr th:only-of-type {\n",
       "        vertical-align: middle;\n",
       "    }\n",
       "\n",
       "    .dataframe tbody tr th {\n",
       "        vertical-align: top;\n",
       "    }\n",
       "\n",
       "    .dataframe thead th {\n",
       "        text-align: right;\n",
       "    }\n",
       "</style>\n",
       "<table border=\"1\" class=\"dataframe\">\n",
       "  <thead>\n",
       "    <tr style=\"text-align: right;\">\n",
       "      <th></th>\n",
       "      <th>tradeDate</th>\n",
       "      <th>Return</th>\n",
       "      <th>Label</th>\n",
       "    </tr>\n",
       "  </thead>\n",
       "  <tbody>\n",
       "    <tr>\n",
       "      <th>0</th>\n",
       "      <td>2017-01-03</td>\n",
       "      <td>0.001092</td>\n",
       "      <td>1.0</td>\n",
       "    </tr>\n",
       "    <tr>\n",
       "      <th>1</th>\n",
       "      <td>2017-01-04</td>\n",
       "      <td>0.002183</td>\n",
       "      <td>1.0</td>\n",
       "    </tr>\n",
       "    <tr>\n",
       "      <th>2</th>\n",
       "      <td>2017-01-05</td>\n",
       "      <td>-0.004362</td>\n",
       "      <td>-1.0</td>\n",
       "    </tr>\n",
       "    <tr>\n",
       "      <th>3</th>\n",
       "      <td>2017-01-06</td>\n",
       "      <td>0.002191</td>\n",
       "      <td>1.0</td>\n",
       "    </tr>\n",
       "    <tr>\n",
       "      <th>4</th>\n",
       "      <td>2017-01-09</td>\n",
       "      <td>0.000000</td>\n",
       "      <td>0.0</td>\n",
       "    </tr>\n",
       "    <tr>\n",
       "      <th>1270</th>\n",
       "      <td>2022-03-25</td>\n",
       "      <td>-0.008678</td>\n",
       "      <td>-1.0</td>\n",
       "    </tr>\n",
       "    <tr>\n",
       "      <th>1271</th>\n",
       "      <td>2022-03-28</td>\n",
       "      <td>-0.011448</td>\n",
       "      <td>-1.0</td>\n",
       "    </tr>\n",
       "    <tr>\n",
       "      <th>1272</th>\n",
       "      <td>2022-03-29</td>\n",
       "      <td>0.036104</td>\n",
       "      <td>1.0</td>\n",
       "    </tr>\n",
       "    <tr>\n",
       "      <th>1273</th>\n",
       "      <td>2022-03-30</td>\n",
       "      <td>0.011177</td>\n",
       "      <td>1.0</td>\n",
       "    </tr>\n",
       "    <tr>\n",
       "      <th>1274</th>\n",
       "      <td>2022-03-31</td>\n",
       "      <td>0.024057</td>\n",
       "      <td>1.0</td>\n",
       "    </tr>\n",
       "  </tbody>\n",
       "</table>\n",
       "</div>"
      ],
      "text/plain": [
       "      tradeDate    Return  Label\n",
       "0    2017-01-03  0.001092    1.0\n",
       "1    2017-01-04  0.002183    1.0\n",
       "2    2017-01-05 -0.004362   -1.0\n",
       "3    2017-01-06  0.002191    1.0\n",
       "4    2017-01-09  0.000000    0.0\n",
       "1270 2022-03-25 -0.008678   -1.0\n",
       "1271 2022-03-28 -0.011448   -1.0\n",
       "1272 2022-03-29  0.036104    1.0\n",
       "1273 2022-03-30  0.011177    1.0\n",
       "1274 2022-03-31  0.024057    1.0"
      ]
     },
     "execution_count": 12,
     "metadata": {},
     "output_type": "execute_result"
    }
   ],
   "source": [
    "out = get_label(outData, result)\n",
    "out.head().append(out.tail())"
   ]
  },
  {
   "cell_type": "code",
   "execution_count": 14,
   "metadata": {
    "pycharm": {
     "name": "#%%\n"
    }
   },
   "outputs": [],
   "source": [
    "# get model\n",
    "import lightgbm as lgb\n",
    "model = lgb.LGBMClassifier(max_depth=5, num_leaves=10, learning_rate=0.0311, n_estimators=1748)"
   ]
  },
  {
   "cell_type": "code",
   "execution_count": 15,
   "metadata": {
    "pycharm": {
     "name": "#%%\n"
    }
   },
   "outputs": [],
   "source": [
    "# get X and y\n",
    "f_x = pickle.load(open('pct1_cal/f_x_066', 'rb'))\n",
    "f_y = 'Label'"
   ]
  },
  {
   "cell_type": "code",
   "execution_count": 16,
   "metadata": {
    "pycharm": {
     "name": "#%%\n"
    }
   },
   "outputs": [],
   "source": [
    "data['tradeDate'] = pd.to_datetime(data['tradeDate'], format = '%Y-%m-%d')"
   ]
  },
  {
   "cell_type": "code",
   "execution_count": 17,
   "metadata": {
    "pycharm": {
     "name": "#%%\n"
    }
   },
   "outputs": [],
   "source": [
    "combined_data = data.merge(out, on=['tradeDate'], how='left')"
   ]
  },
  {
   "cell_type": "code",
   "execution_count": 18,
   "metadata": {
    "pycharm": {
     "name": "#%%\n"
    }
   },
   "outputs": [],
   "source": [
    "combined_data['tradeDate'] = combined_data['tradeDate'].dt.strftime('%Y-%m-%d')"
   ]
  },
  {
   "cell_type": "code",
   "execution_count": null,
   "metadata": {
    "pycharm": {
     "name": "#%%\n"
    }
   },
   "outputs": [],
   "source": [
    "dates = combined_data.tradeDate.sort_values().unique()\n",
    "epoch_ts = list(dates)\n",
    "update = 22 # 训练长度：22天\n",
    "train_si = epoch_ts.index('2017-01-03') # included. '2017-01-03'\n",
    "train_ei = epoch_ts.index('2019-01-02') # excluded. '2018-12-28'\n",
    "test_si = epoch_ts.index('2019-01-02') # included. '2019-01-02'\n",
    "test_ei = epoch_ts.index('2019-02-01') # excluded. '2019-01-31'\n",
    "test_fi = len(epoch_ts) - 1 # excluded.\n",
    "update_n = 0\n",
    "# get a list of train dates\n",
    "epoch_t_train = epoch_ts[train_si + update_n : train_ei + update_n]\n",
    "# get a list of test dates\n",
    "epoch_t_test = epoch_ts[test_si + update_n : test_ei + update_n]\n",
    "df_train = combined_data[combined_data.tradeDate.apply(lambda x: x in epoch_t_train)].reset_index(drop=True)\n",
    "df_test = combined_data[combined_data.tradeDate.apply(lambda x: x in epoch_t_test)].reset_index(drop=True)"
   ]
  },
  {
   "cell_type": "code",
   "execution_count": null,
   "metadata": {
    "pycharm": {
     "name": "#%%\n"
    }
   },
   "outputs": [
    {
     "name": "stdout",
     "output_type": "stream",
     "text": [
      "处理后x： (487, 290) (22, 290)\n",
      "处理后y： (487,) (22,)\n"
     ]
    }
   ],
   "source": [
    "x_train = df_train[f_x].values\n",
    "x_test = df_test[f_x].values\n",
    "print('处理后x：', x_train.shape, x_test.shape)\n",
    "\n",
    "y_train = df_train[f_y].copy()\n",
    "y_test = df_test[f_y].copy()\n",
    "print('处理后y：', y_train.shape, y_test.shape)"
   ]
  },
  {
   "cell_type": "code",
   "execution_count": null,
   "metadata": {
    "pycharm": {
     "is_executing": true,
     "name": "#%%\n"
    }
   },
   "outputs": [],
   "source": [
    "y_train = y_train.replace(to_replace=[-1, 1], value=1)\n",
    "y_test = y_test.replace(to_replace=[-1, 1], value=1)"
   ]
  },
  {
   "cell_type": "code",
   "execution_count": null,
   "metadata": {},
   "outputs": [
    {
     "data": {
      "text/plain": [
       "1.0    466\n",
       "0.0     21\n",
       "Name: Label, dtype: int64"
      ]
     },
     "execution_count": 22,
     "metadata": {},
     "output_type": "execute_result"
    }
   ],
   "source": [
    "y_train.value_counts()"
   ]
  },
  {
   "cell_type": "code",
   "execution_count": null,
   "metadata": {
    "pycharm": {
     "name": "#%%\n"
    }
   },
   "outputs": [
    {
     "name": "stderr",
     "output_type": "stream",
     "text": [
      "/workspace1/liufengyuan/.local/lib/python3.6/site-packages/sklearn/linear_model/_logistic.py:765: ConvergenceWarning: lbfgs failed to converge (status=1):\n",
      "STOP: TOTAL NO. of ITERATIONS REACHED LIMIT.\n",
      "\n",
      "Increase the number of iterations (max_iter) or scale the data as shown in:\n",
      "    https://scikit-learn.org/stable/modules/preprocessing.html\n",
      "Please also refer to the documentation for alternative solver options:\n",
      "    https://scikit-learn.org/stable/modules/linear_model.html#logistic-regression\n",
      "  extra_warning_msg=_LOGISTIC_SOLVER_CONVERGENCE_MSG)\n"
     ]
    },
    {
     "data": {
      "text/plain": [
       "LogisticRegression(max_iter=3)"
      ]
     },
     "execution_count": 23,
     "metadata": {},
     "output_type": "execute_result"
    }
   ],
   "source": [
    "from sklearn.linear_model import LogisticRegression\n",
    "model = LogisticRegression( max_iter=3 )\n",
    "model.fit(x_train, y_train)\n",
    "#model.fit(x_train, y_train, eval_set=[(x_train,y_train), (x_test,y_test)], eval_metric='l2')"
   ]
  },
  {
   "cell_type": "code",
   "execution_count": null,
   "metadata": {
    "pycharm": {
     "name": "#%%\n"
    }
   },
   "outputs": [],
   "source": [
    "y_pred = model.predict(x_train)"
   ]
  },
  {
   "cell_type": "code",
   "execution_count": null,
   "metadata": {
    "pycharm": {
     "name": "#%%\n"
    }
   },
   "outputs": [],
   "source": [
    "from sklearn.metrics import confusion_matrix\n",
    "from sklearn.metrics import plot_roc_curve"
   ]
  },
  {
   "cell_type": "code",
   "execution_count": null,
   "metadata": {
    "pycharm": {
     "name": "#%%\n"
    }
   },
   "outputs": [
    {
     "data": {
      "text/plain": [
       "<sklearn.metrics._plot.roc_curve.RocCurveDisplay at 0x7fbf4875a550>"
      ]
     },
     "execution_count": 31,
     "metadata": {},
     "output_type": "execute_result"
    },
    {
     "data": {
      "image/png": "[encoded data removed]",
      "text/plain": [
       "<Figure size 432x288 with 1 Axes>"
      ]
     },
     "metadata": {
      "needs_background": "light"
     },
     "output_type": "display_data"
    }
   ],
   "source": [
    "plot_roc_curve(model, x_train, y_train)"
   ]
  },
  {
   "cell_type": "code",
   "execution_count": null,
   "metadata": {},
   "outputs": [
    {
     "name": "stdout",
     "output_type": "stream",
     "text": [
      "[[  0  21]\n",
      " [  0 466]]\n"
     ]
    }
   ],
   "source": [
    "print( confusion_matrix(y_train, y_pred))"
   ]
  },
  {
   "cell_type": "code",
   "execution_count": null,
   "metadata": {},
   "outputs": [],
   "source": []
  }
 ],
 "metadata": {
  "kernelspec": {
   "display_name": "Python 3",
   "language": "python",
   "name": "python3"
  },
  "language_info": {
   "codemirror_mode": {
    "name": "ipython",
    "version": 3
   },
   "file_extension": ".py",
   "mimetype": "text/x-python",
   "name": "python",
   "nbconvert_exporter": "python",
   "pygments_lexer": "ipython3",
   "version": "3.6.9"
  },
  "vscode": {
   "interpreter": {
    "hash": "31f2aee4e71d21fbe5cf8b01ff0e069b9275f58929596ceb00d14d90e3e16cd6"
   }
  }
 },
 "nbformat": 4,
 "nbformat_minor": 1
}
