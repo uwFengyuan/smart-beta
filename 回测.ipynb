{
 "cells": [
  {
   "cell_type": "code",
   "execution_count": 1,
   "metadata": {},
   "outputs": [],
   "source": [
    "import glob\n",
    "import uqer\n",
    "import time\n",
    "import joblib\n",
    "import pickle\n",
    "import datetime\n",
    "import numpy as np\n",
    "import pandas as pd\n",
    "import lightgbm as lgb\n",
    "from uqer import DataAPI   #优矿api\n",
    "from sklearn import linear_model\n",
    "from joblib import Parallel, delayed\n",
    "from sklearn.preprocessing import StandardScaler\n",
    "from pandas.core.common import SettingWithCopyWarning\n",
    "from sklearn.base import BaseEstimator, TransformerMixin\n",
    "from sklearn.linear_model import Ridge, LinearRegression\n",
    "from sklearn.model_selection import GridSearchCV, TimeSeriesSplit"
   ]
  },
  {
   "cell_type": "code",
   "execution_count": 2,
   "metadata": {},
   "outputs": [],
   "source": [
    "result = pd.read_csv('pct1_cal/full/full_Alter_extra_224_LGBMRegressor_openclose_pct1_full_rank_r2022-07-25:11:08:34_train_0.157.csv')"
   ]
  },
  {
   "cell_type": "code",
   "execution_count": 6,
   "metadata": {},
   "outputs": [
    {
     "data": {
      "text/html": [
       "<div>\n",
       "<style scoped>\n",
       "    .dataframe tbody tr th:only-of-type {\n",
       "        vertical-align: middle;\n",
       "    }\n",
       "\n",
       "    .dataframe tbody tr th {\n",
       "        vertical-align: top;\n",
       "    }\n",
       "\n",
       "    .dataframe thead th {\n",
       "        text-align: right;\n",
       "    }\n",
       "</style>\n",
       "<table border=\"1\" class=\"dataframe\">\n",
       "  <thead>\n",
       "    <tr style=\"text-align: right;\">\n",
       "      <th></th>\n",
       "      <th>ticker</th>\n",
       "      <th>tradeDate</th>\n",
       "      <th>y</th>\n",
       "      <th>y_pred</th>\n",
       "    </tr>\n",
       "  </thead>\n",
       "  <tbody>\n",
       "    <tr>\n",
       "      <th>0</th>\n",
       "      <td>1</td>\n",
       "      <td>2019-01-02</td>\n",
       "      <td>0.863836</td>\n",
       "      <td>0.539390</td>\n",
       "    </tr>\n",
       "    <tr>\n",
       "      <th>1</th>\n",
       "      <td>1</td>\n",
       "      <td>2019-01-03</td>\n",
       "      <td>0.891781</td>\n",
       "      <td>0.495638</td>\n",
       "    </tr>\n",
       "    <tr>\n",
       "      <th>2</th>\n",
       "      <td>1</td>\n",
       "      <td>2019-01-04</td>\n",
       "      <td>0.065479</td>\n",
       "      <td>0.430368</td>\n",
       "    </tr>\n",
       "    <tr>\n",
       "      <th>3</th>\n",
       "      <td>1</td>\n",
       "      <td>2019-01-07</td>\n",
       "      <td>0.516977</td>\n",
       "      <td>0.495471</td>\n",
       "    </tr>\n",
       "    <tr>\n",
       "      <th>4</th>\n",
       "      <td>1</td>\n",
       "      <td>2019-01-08</td>\n",
       "      <td>0.856517</td>\n",
       "      <td>0.450997</td>\n",
       "    </tr>\n",
       "    <tr>\n",
       "      <th>...</th>\n",
       "      <td>...</td>\n",
       "      <td>...</td>\n",
       "      <td>...</td>\n",
       "      <td>...</td>\n",
       "    </tr>\n",
       "    <tr>\n",
       "      <th>3054427</th>\n",
       "      <td>689009</td>\n",
       "      <td>2022-03-28</td>\n",
       "      <td>0.912723</td>\n",
       "      <td>0.530849</td>\n",
       "    </tr>\n",
       "    <tr>\n",
       "      <th>3054428</th>\n",
       "      <td>689009</td>\n",
       "      <td>2022-03-29</td>\n",
       "      <td>0.058873</td>\n",
       "      <td>0.472546</td>\n",
       "    </tr>\n",
       "    <tr>\n",
       "      <th>3054429</th>\n",
       "      <td>689009</td>\n",
       "      <td>2022-03-30</td>\n",
       "      <td>0.425688</td>\n",
       "      <td>0.513223</td>\n",
       "    </tr>\n",
       "    <tr>\n",
       "      <th>3054430</th>\n",
       "      <td>689009</td>\n",
       "      <td>2022-03-31</td>\n",
       "      <td>0.188525</td>\n",
       "      <td>0.541769</td>\n",
       "    </tr>\n",
       "    <tr>\n",
       "      <th>3054431</th>\n",
       "      <td>689009</td>\n",
       "      <td>2022-04-01</td>\n",
       "      <td>0.207712</td>\n",
       "      <td>0.555761</td>\n",
       "    </tr>\n",
       "  </tbody>\n",
       "</table>\n",
       "<p>3054432 rows × 4 columns</p>\n",
       "</div>"
      ],
      "text/plain": [
       "         ticker   tradeDate         y    y_pred\n",
       "0             1  2019-01-02  0.863836  0.539390\n",
       "1             1  2019-01-03  0.891781  0.495638\n",
       "2             1  2019-01-04  0.065479  0.430368\n",
       "3             1  2019-01-07  0.516977  0.495471\n",
       "4             1  2019-01-08  0.856517  0.450997\n",
       "...         ...         ...       ...       ...\n",
       "3054427  689009  2022-03-28  0.912723  0.530849\n",
       "3054428  689009  2022-03-29  0.058873  0.472546\n",
       "3054429  689009  2022-03-30  0.425688  0.513223\n",
       "3054430  689009  2022-03-31  0.188525  0.541769\n",
       "3054431  689009  2022-04-01  0.207712  0.555761\n",
       "\n",
       "[3054432 rows x 4 columns]"
      ]
     },
     "execution_count": 6,
     "metadata": {},
     "output_type": "execute_result"
    }
   ],
   "source": [
    "result"
   ]
  },
  {
   "cell_type": "code",
   "execution_count": 3,
   "metadata": {},
   "outputs": [
    {
     "name": "stdout",
     "output_type": "stream",
     "text": [
      "<class 'pandas.core.frame.DataFrame'>\n",
      "RangeIndex: 3054432 entries, 0 to 3054431\n",
      "Data columns (total 4 columns):\n",
      " #   Column     Dtype  \n",
      "---  ------     -----  \n",
      " 0   ticker     int64  \n",
      " 1   tradeDate  object \n",
      " 2   y          float64\n",
      " 3   y_pred     float64\n",
      "dtypes: float64(2), int64(1), object(1)\n",
      "memory usage: 93.2+ MB\n"
     ]
    }
   ],
   "source": [
    "result.info()"
   ]
  },
  {
   "cell_type": "code",
   "execution_count": 5,
   "metadata": {},
   "outputs": [
    {
     "data": {
      "text/plain": [
       "RangeIndex(start=0, stop=3054432, step=1)"
      ]
     },
     "execution_count": 5,
     "metadata": {},
     "output_type": "execute_result"
    }
   ],
   "source": [
    "result.index"
   ]
  },
  {
   "cell_type": "code",
   "execution_count": 8,
   "metadata": {},
   "outputs": [
    {
     "data": {
      "text/plain": [
       "array([[1, '2019-01-02', 0.8638356164383562, 0.5393900800523802],\n",
       "       [1, '2019-01-03', 0.8917808219178082, 0.495637580550581],\n",
       "       [1, '2019-01-04', 0.0654794520547945, 0.4303680153611025],\n",
       "       ...,\n",
       "       [689009, '2022-03-30', 0.4256884591128863, 0.5132234546025178],\n",
       "       [689009, '2022-03-31', 0.1885245901639344, 0.541769417108376],\n",
       "       [689009, '2022-04-01', 0.2077117041395251, 0.5557608565406398]],\n",
       "      dtype=object)"
      ]
     },
     "execution_count": 8,
     "metadata": {},
     "output_type": "execute_result"
    }
   ],
   "source": [
    "result.values"
   ]
  },
  {
   "cell_type": "code",
   "execution_count": 9,
   "metadata": {},
   "outputs": [
    {
     "data": {
      "text/html": [
       "<div>\n",
       "<style scoped>\n",
       "    .dataframe tbody tr th:only-of-type {\n",
       "        vertical-align: middle;\n",
       "    }\n",
       "\n",
       "    .dataframe tbody tr th {\n",
       "        vertical-align: top;\n",
       "    }\n",
       "\n",
       "    .dataframe thead th {\n",
       "        text-align: right;\n",
       "    }\n",
       "</style>\n",
       "<table border=\"1\" class=\"dataframe\">\n",
       "  <thead>\n",
       "    <tr style=\"text-align: right;\">\n",
       "      <th></th>\n",
       "      <th>ticker</th>\n",
       "      <th>y</th>\n",
       "      <th>y_pred</th>\n",
       "    </tr>\n",
       "  </thead>\n",
       "  <tbody>\n",
       "    <tr>\n",
       "      <th>count</th>\n",
       "      <td>3.054432e+06</td>\n",
       "      <td>3.054432e+06</td>\n",
       "      <td>3.054432e+06</td>\n",
       "    </tr>\n",
       "    <tr>\n",
       "      <th>mean</th>\n",
       "      <td>3.234161e+05</td>\n",
       "      <td>4.992790e-01</td>\n",
       "      <td>4.987536e-01</td>\n",
       "    </tr>\n",
       "    <tr>\n",
       "      <th>std</th>\n",
       "      <td>2.685459e+05</td>\n",
       "      <td>2.865787e-01</td>\n",
       "      <td>4.525975e-02</td>\n",
       "    </tr>\n",
       "    <tr>\n",
       "      <th>min</th>\n",
       "      <td>1.000000e+00</td>\n",
       "      <td>2.101282e-04</td>\n",
       "      <td>9.806987e-02</td>\n",
       "    </tr>\n",
       "    <tr>\n",
       "      <th>25%</th>\n",
       "      <td>2.535000e+03</td>\n",
       "      <td>2.515602e-01</td>\n",
       "      <td>4.794022e-01</td>\n",
       "    </tr>\n",
       "    <tr>\n",
       "      <th>50%</th>\n",
       "      <td>3.005570e+05</td>\n",
       "      <td>4.988745e-01</td>\n",
       "      <td>5.047842e-01</td>\n",
       "    </tr>\n",
       "    <tr>\n",
       "      <th>75%</th>\n",
       "      <td>6.008260e+05</td>\n",
       "      <td>7.469619e-01</td>\n",
       "      <td>5.232146e-01</td>\n",
       "    </tr>\n",
       "    <tr>\n",
       "      <th>max</th>\n",
       "      <td>6.890090e+05</td>\n",
       "      <td>1.000000e+00</td>\n",
       "      <td>7.137872e-01</td>\n",
       "    </tr>\n",
       "  </tbody>\n",
       "</table>\n",
       "</div>"
      ],
      "text/plain": [
       "             ticker             y        y_pred\n",
       "count  3.054432e+06  3.054432e+06  3.054432e+06\n",
       "mean   3.234161e+05  4.992790e-01  4.987536e-01\n",
       "std    2.685459e+05  2.865787e-01  4.525975e-02\n",
       "min    1.000000e+00  2.101282e-04  9.806987e-02\n",
       "25%    2.535000e+03  2.515602e-01  4.794022e-01\n",
       "50%    3.005570e+05  4.988745e-01  5.047842e-01\n",
       "75%    6.008260e+05  7.469619e-01  5.232146e-01\n",
       "max    6.890090e+05  1.000000e+00  7.137872e-01"
      ]
     },
     "execution_count": 9,
     "metadata": {},
     "output_type": "execute_result"
    }
   ],
   "source": [
    "result.describe()"
   ]
  },
  {
   "cell_type": "code",
   "execution_count": 18,
   "metadata": {},
   "outputs": [
    {
     "data": {
      "text/html": [
       "<div>\n",
       "<style scoped>\n",
       "    .dataframe tbody tr th:only-of-type {\n",
       "        vertical-align: middle;\n",
       "    }\n",
       "\n",
       "    .dataframe tbody tr th {\n",
       "        vertical-align: top;\n",
       "    }\n",
       "\n",
       "    .dataframe thead th {\n",
       "        text-align: right;\n",
       "    }\n",
       "</style>\n",
       "<table border=\"1\" class=\"dataframe\">\n",
       "  <thead>\n",
       "    <tr style=\"text-align: right;\">\n",
       "      <th></th>\n",
       "      <th>ticker</th>\n",
       "      <th>tradeDate</th>\n",
       "      <th>y</th>\n",
       "    </tr>\n",
       "  </thead>\n",
       "  <tbody>\n",
       "    <tr>\n",
       "      <th>0</th>\n",
       "      <td>1</td>\n",
       "      <td>2019-01-02</td>\n",
       "      <td>0.863836</td>\n",
       "    </tr>\n",
       "    <tr>\n",
       "      <th>1</th>\n",
       "      <td>1</td>\n",
       "      <td>2019-01-03</td>\n",
       "      <td>0.891781</td>\n",
       "    </tr>\n",
       "    <tr>\n",
       "      <th>2</th>\n",
       "      <td>1</td>\n",
       "      <td>2019-01-04</td>\n",
       "      <td>0.065479</td>\n",
       "    </tr>\n",
       "    <tr>\n",
       "      <th>3</th>\n",
       "      <td>1</td>\n",
       "      <td>2019-01-07</td>\n",
       "      <td>0.516977</td>\n",
       "    </tr>\n",
       "    <tr>\n",
       "      <th>4</th>\n",
       "      <td>1</td>\n",
       "      <td>2019-01-08</td>\n",
       "      <td>0.856517</td>\n",
       "    </tr>\n",
       "  </tbody>\n",
       "</table>\n",
       "</div>"
      ],
      "text/plain": [
       "   ticker   tradeDate         y\n",
       "0       1  2019-01-02  0.863836\n",
       "1       1  2019-01-03  0.891781\n",
       "2       1  2019-01-04  0.065479\n",
       "3       1  2019-01-07  0.516977\n",
       "4       1  2019-01-08  0.856517"
      ]
     },
     "execution_count": 18,
     "metadata": {},
     "output_type": "execute_result"
    }
   ],
   "source": [
    "result.loc[0:4, 'ticker':'y']"
   ]
  }
 ],
 "metadata": {
  "kernelspec": {
   "display_name": "Python 3.9.12 ('base')",
   "language": "python",
   "name": "python3"
  },
  "language_info": {
   "codemirror_mode": {
    "name": "ipython",
    "version": 3
   },
   "file_extension": ".py",
   "mimetype": "text/x-python",
   "name": "python",
   "nbconvert_exporter": "python",
   "pygments_lexer": "ipython3",
   "version": "3.9.12"
  },
  "orig_nbformat": 4,
  "vscode": {
   "interpreter": {
    "hash": "0c4e795b307436e90878d87b7b6ea0f9ae1f8d88c9c1ffc8ae37ae0851c943d6"
   }
  }
 },
 "nbformat": 4,
 "nbformat_minor": 2
}
