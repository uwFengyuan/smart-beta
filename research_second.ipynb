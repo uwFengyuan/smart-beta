{
 "cells": [
  {
   "cell_type": "code",
   "execution_count": 1,
   "metadata": {},
   "outputs": [
    {
     "name": "stdout",
     "output_type": "stream",
     "text": [
      "127807@wmcloud.com 账号登录成功\n"
     ]
    }
   ],
   "source": [
    "import numpy as np\n",
    "from joblib import Parallel, delayed\n",
    "import pandas as pd\n",
    "import pickle\n",
    "import lightgbm as lgb\n",
    "import glob\n",
    "import numpy as np\n",
    "from sklearn.base import BaseEstimator, TransformerMixin\n",
    "from sklearn import linear_model\n",
    "from sklearn.preprocessing import StandardScaler\n",
    "from joblib import Parallel, delayed\n",
    "import time\n",
    "from sklearn.model_selection import GridSearchCV, TimeSeriesSplit\n",
    "import datetime\n",
    "from sklearn.linear_model import Ridge, LinearRegression\n",
    "import uqer\n",
    "from uqer import DataAPI   #优矿api\n",
    "client = uqer.Client(token='18266a7c0ac9f8cdbe00f9b2ecb65f42316a5f78d9cc22ebabcbd923593356e4')"
   ]
  },
  {
   "cell_type": "code",
   "execution_count": 2,
   "metadata": {},
   "outputs": [],
   "source": [
    "def ticekrToStr(job_sum):\n",
    "    job_sum = job_sum[job_sum.ticker<700000]\n",
    "    job_sum.loc[job_sum.ticker<10,'temp']='00000'\n",
    "    job_sum.loc[(job_sum.ticker<100)&(job_sum.ticker>=10),'temp']='0000'\n",
    "    job_sum.loc[(job_sum.ticker<1000)&(job_sum.ticker>=100),'temp']='000'\n",
    "    job_sum.loc[(job_sum.ticker<10000)&(job_sum.ticker>=1000),'temp']='00'\n",
    "    job_sum.loc[job_sum.temp==job_sum.temp,'ticker'] = job_sum[job_sum.temp==job_sum.temp]['temp']+job_sum[job_sum.temp==job_sum.temp]['ticker'].astype(str)\n",
    "    del job_sum['temp']\n",
    "    job_sum['ticker'] = job_sum['ticker'].astype(str)\n",
    "    return job_sum\n",
    "\n",
    "def reduce_mem_usage(df, verbose=True):\n",
    "    start_mem = df.memory_usage().sum() / 1024 ** 2\n",
    "    numerics = ['int16', 'int32', 'int64', 'float16', 'float32', 'float64']\n",
    "\n",
    "    for col in df.columns:\n",
    "        col_type = df[col].dtypes\n",
    "        if col_type in numerics:\n",
    "            c_min = df[col].min()\n",
    "            c_max = df[col].max()\n",
    "            if str(col_type)[:3] == 'int':\n",
    "                if c_min > np.iinfo(np.int8).min and c_max < np.iinfo(np.int8).max:\n",
    "                    df[col] = df[col].astype(np.int8)\n",
    "                elif c_min > np.iinfo(np.int16).min and c_max < np.iinfo(np.int16).max:\n",
    "                    df[col] = df[col].astype(np.int16)\n",
    "                elif c_min > np.iinfo(np.int32).min and c_max < np.iinfo(np.int32).max:\n",
    "                    df[col] = df[col].astype(np.int32)\n",
    "                elif c_min > np.iinfo(np.int64).min and c_max < np.iinfo(np.int64).max:\n",
    "                    df[col] = df[col].astype(np.int64)\n",
    "            else:\n",
    "                if c_min > np.finfo(np.float16).min and c_max < np.finfo(np.float16).max:\n",
    "                    df[col] = df[col].astype(np.float16)\n",
    "                elif c_min > np.finfo(np.float32).min and c_max < np.finfo(np.float32).max:\n",
    "                    df[col] = df[col].astype(np.float32)\n",
    "                else:\n",
    "                    df[col] = df[col].astype(np.float64)\n",
    "\n",
    "    end_mem = df.memory_usage().sum() / 1024 ** 2\n",
    "    print('Memory usage after optimization is: {:.2f} MB'.format(end_mem))\n",
    "    print('Decreased by {:.1f}%'.format(100 * (start_mem - end_mem) / start_mem))\n",
    "    return df"
   ]
  },
  {
   "cell_type": "code",
   "execution_count": 3,
   "metadata": {},
   "outputs": [
    {
     "name": "stdout",
     "output_type": "stream",
     "text": [
      "(4745949, 327)\n"
     ]
    }
   ],
   "source": [
    "df1 = pd.read_csv('pct1_cal/alter_idst_alphas_066_labels_raw.csv')\n",
    "print(df1.shape)\n",
    "f_index = ['ticker', 'tradeDate']\n",
    "f_industry = pickle.load(open(\"pct1_cal/f_industry\", \"rb\"))"
   ]
  },
  {
   "cell_type": "code",
   "execution_count": 4,
   "metadata": {},
   "outputs": [
    {
     "data": {
      "text/plain": [
       "Index(['ticker', 'tradeDate', 'minute_new_FACTORS_CDPDP',\n",
       "       'minute_new_FACTORS_CDPP', 'minute_new_FACTORS_Down_beta',\n",
       "       'minute_new_FACTORS_ILLIQ', 'minute_new_FACTORS_IMI',\n",
       "       'minute_new_FACTORS_PVC', 'minute_new_FACTORS_TMA_turn',\n",
       "       'minute_new_FACTORS_TSMOM',\n",
       "       ...\n",
       "       'idst_12', 'idst_13', 'idst_14', 'idst_15', 'idst_16', 'idst_17',\n",
       "       'idst_18', 'idst_19', 'idst_20', 'idst_21'],\n",
       "      dtype='object', length=317)"
      ]
     },
     "execution_count": 4,
     "metadata": {},
     "output_type": "execute_result"
    }
   ],
   "source": [
    "df1.columns[:-10]"
   ]
  },
  {
   "cell_type": "code",
   "execution_count": 5,
   "metadata": {},
   "outputs": [
    {
     "name": "stdout",
     "output_type": "stream",
     "text": [
      "========LOADING DATA========\n",
      "(3320037, 12)\n",
      "========COMPLETE LOADING DATA========\n"
     ]
    }
   ],
   "source": [
    "print('========LOADING DATA========')\n",
    "jiheyingzi = pd.read_csv('pct1_cal/集合竞价因子.csv')\n",
    "jiheyingzi = jiheyingzi.drop(columns='Unnamed: 0')\n",
    "print(jiheyingzi.shape)\n",
    "print('========COMPLETE LOADING DATA========')"
   ]
  },
  {
   "cell_type": "code",
   "execution_count": 6,
   "metadata": {},
   "outputs": [],
   "source": [
    "df1 = df1.merge(jiheyingzi, on=['ticker', 'tradeDate'], how='left')\n",
    "extra_factors = ['volume', 'cachgPct', 'thecommittee', 'askVolume1',\n",
    "       'bidVolume1', 'caQrr', 'caTr', 'OCVP1',\n",
    "       'Open/vwap-1', 'Gap']\n",
    "factors = pickle.load(open(\"pct1_cal/f_x_066\", \"rb\"))"
   ]
  },
  {
   "cell_type": "code",
   "execution_count": 7,
   "metadata": {},
   "outputs": [],
   "source": [
    "f_x = extra_factors.copy()\n",
    "for element in factors:\n",
    "    if element[:14] == 'py_cov_FACTORS' or element[:14] == 'minute_FACTORS' or element[:14] == 'gaopin_liangji':\n",
    "        f_x.append(element)\n",
    "    elif element[:5] == 'alpha':\n",
    "        f_x.append(element)"
   ]
  },
  {
   "cell_type": "code",
   "execution_count": 8,
   "metadata": {},
   "outputs": [],
   "source": [
    "# %% a list of classes\n",
    "## exclude extreme values\n",
    "class ExcludeExtreme(BaseEstimator, TransformerMixin):\n",
    "    def __init__(self):\n",
    "        self.df_median = None\n",
    "        self.df_standard = None\n",
    "\n",
    "    def fit(self, df_columnList):\n",
    "        self.df_median = df_columnList.median()\n",
    "        self.df_standard = df_columnList.apply(lambda x: x - self.df_median[x.name]).abs().median()\n",
    "        return self\n",
    "\n",
    "    def scaller(self, x):\n",
    "        self.di_max = self.df_median[x.name] + 5 * self.df_standard[x.name]\n",
    "        self.di_min = self.df_median[x.name] - 5 * self.df_standard[x.name]\n",
    "        x = x.apply(lambda v: self.di_min if v < self.di_min else v)\n",
    "        x = x.apply(lambda v: self.di_max if v > self.di_max else v)\n",
    "        return x\n",
    "\n",
    "    def transform(self, df_columnList):\n",
    "        df_columnList = df_columnList.apply(self.scaller)\n",
    "        return df_columnList\n",
    "\n",
    "## fill empty values\n",
    "class FillEmpty(BaseEstimator, TransformerMixin):\n",
    "    def __init__(self):\n",
    "        self.df_mean_industry = None\n",
    "\n",
    "    def fit(self, df_name, f_x = f_x, group_name='industry'):\n",
    "        self.df_mean_industry = df_name.groupby(group_name).mean()[f_x]\n",
    "        self.df_mean_industry = self.df_mean_industry.fillna(self.df_mean_industry.mean())\n",
    "        self.df_mean_industry.columns = [x + '_mean' for x in self.df_mean_industry.columns]\n",
    "        self.df_mean_industry = self.df_mean_industry.reset_index()\n",
    "        self.df_mean_industry = self.df_mean_industry.fillna(0)  # 可以删除\n",
    "        return self\n",
    "\n",
    "    def transform(self, df_name, f_x = f_x, group_name='industry'):\n",
    "        df_name_mean = df_name.merge(self.df_mean_industry, on=group_name, how='left')\n",
    "        df_name_mean[f_x] = df_name_mean[f_x].apply(lambda x: x.fillna(df_name_mean[x.name + '_mean']))\n",
    "        df_name = df_name_mean[df_name.columns]\n",
    "        return df_name\n",
    "\n",
    "## neutralize industry\n",
    "class Neutralization(BaseEstimator, TransformerMixin):\n",
    "    def __init__(self):\n",
    "        self.models = {}\n",
    "\n",
    "    def regr_fit(self, X, y):\n",
    "        self.models[y.name] = linear_model.LinearRegression().fit(X, y)\n",
    "        return\n",
    "\n",
    "    def regr_pred(self, X, y):\n",
    "        pred = self.models[y.name].predict(X)\n",
    "        return y - pred\n",
    "\n",
    "    def fit(self, df_name, f_x = f_x, f_idst = f_industry):\n",
    "        X = df_name[['log_marketValue'] + f_idst]\n",
    "        df_name[f_x].apply(lambda y: self.regr_fit(X, y))\n",
    "        return self\n",
    "\n",
    "    def transform(self, df_name, f_x = f_x, f_idst = f_industry):\n",
    "        X = df_name[['log_marketValue'] + f_idst]\n",
    "        df_name[f_x] = df_name[f_x].apply(lambda y: self.regr_pred(X, y))\n",
    "        return df_name"
   ]
  },
  {
   "cell_type": "code",
   "execution_count": 9,
   "metadata": {},
   "outputs": [],
   "source": [
    "label_list = ['PCT5_rank', 'PCT2_rank', 'openclose_pct1_rank', 'openclose_pct1', 'askbid_pct1_rank', 'askbid_pct1']\n",
    "f_y =  label_list[2] # 'pct_dmean'\n",
    "f_x = pickle.load(open(\"pct1_cal/f_x_066\", \"rb\")) + extra_factors\n",
    "\n",
    "#e: extra, m: filted\n",
    "data_source = 'full_Alter_066_full_extra'\n",
    "file_location = 'pct1_cal'\n",
    "file_type = 'full'\n",
    "model_list = ['LinearRegression', 'RidgeR', 'DecisionTreeR', 'XGBoostR', 'LGBMRegressor']\n",
    "model_name = model_list[4]\n",
    "target_types = ['r', 'c'] # 分类问题还是回归问题 r 回归问题 c 分类问题\n",
    "target_type = target_types[0]\n",
    "####========需要修改的全局参数========####"
   ]
  },
  {
   "cell_type": "code",
   "execution_count": 10,
   "metadata": {},
   "outputs": [
    {
     "name": "stdout",
     "output_type": "stream",
     "text": [
      "full_Alter_066_full_extra_LGBMRegressor_openclose_pct1_rank_r\n"
     ]
    }
   ],
   "source": [
    "dates = df1.tradeDate.sort_values().unique()\n",
    "epoch_ts = list(dates)\n",
    "f_index = ['ticker', 'tradeDate']\n",
    "result_name = '{}_{}_{}_{}'.format(data_source, model_name, f_y, target_type)\n",
    "print(result_name)\n",
    "\n",
    "update = 22 # 训练长度：22天\n",
    "train_si = epoch_ts.index('2017-01-03') # included. '2017-01-03'\n",
    "train_ei = epoch_ts.index('2019-01-02') # excluded. '2018-12-28'\n",
    "test_si = epoch_ts.index('2019-01-02') # included. '2019-01-02'\n",
    "test_ei = epoch_ts.index('2019-02-01') # excluded. '2019-01-31' '2019-02-01'\n",
    "test_fi = len(epoch_ts) - 1 # excluded. '2019-01-16'\n",
    "\n",
    "# number of epochs，循环次数\n",
    "num_epoch = round((test_fi - test_ei) / update)\n",
    "epoch_range = range(0, num_epoch + 1)\n",
    "timediff = pd.Timedelta(100,unit='d')"
   ]
  },
  {
   "cell_type": "code",
   "execution_count": 11,
   "metadata": {},
   "outputs": [],
   "source": [
    "#每日rank\n",
    "def dailyrank(data,out):\n",
    "    datelist = np.unique(data['tradeDate'])\n",
    "    data['rank'] = 0\n",
    "    for i in datelist:\n",
    "        data.loc[data['tradeDate']==i,'rank'] = data.loc[data['tradeDate']==i,out].rank(ascending = True)/data.loc[data['tradeDate']==i,:].shape[0]\n",
    "    return data"
   ]
  },
  {
   "cell_type": "code",
   "execution_count": 12,
   "metadata": {},
   "outputs": [],
   "source": [
    "def load_lrlist(lr_max,lr_min,num_rounds):\n",
    "    lrlist = [lr_max+(lr_min-lr_max)*(np.log(i)/np.log(num_rounds)) for i in range(1,num_rounds+1)]\n",
    "    return lrlist"
   ]
  },
  {
   "cell_type": "code",
   "execution_count": 13,
   "metadata": {},
   "outputs": [],
   "source": [
    "lr_max = 0.05\n",
    "lr_min = 0.02\n",
    "n_jobs = 20"
   ]
  },
  {
   "cell_type": "code",
   "execution_count": 14,
   "metadata": {},
   "outputs": [],
   "source": [
    "#gbm params\n",
    "params =  {\n",
    "    'boosting_type' : 'gbdt',\n",
    "    'num_leaves' : 31,\n",
    "    'feature_fraction' : 0.8,\n",
    "    'bagging_fraction' : 0.8,\n",
    "    'lambda_l1':1,\n",
    "    'lambda_l2':10,\n",
    "    'max_bin' : 64,\n",
    "    'num_boost_round': 200,\n",
    "    'learning_rate' : 0.04,\n",
    "    'min_data_in_leaf':10,\n",
    "    'num_threads': n_jobs\n",
    "}\n",
    "params['objective'] = 'regression'\n",
    "params['metric'] = {'l2', 'auc'}\n",
    "lrlist = load_lrlist(lr_max,lr_min,params['num_boost_round'])\n",
    "params['lrlist'] = lrlist"
   ]
  },
  {
   "cell_type": "code",
   "execution_count": 15,
   "metadata": {},
   "outputs": [],
   "source": [
    "def assign_weight(trainy,weightdic):\n",
    "    trainy['weight'] = 1\n",
    "    trainy['absout'] = abs(trainy['openclose_pct1'])\n",
    "    wkey = [k for k in weightdic]\n",
    "    wkey.sort()\n",
    "    for k in wkey[:-1]:\n",
    "        k2 = wkey[wkey.index(k)+1]\n",
    "        trainy.loc[(trainy['absout']>=k)&(trainy['absout']<k2),'weight'] *= weightdic[k]\n",
    "    k = wkey[-1]\n",
    "    trainy.loc[trainy['absout']>=k,'weight'] *= weightdic[k]\n",
    "    trainy['weight'] = (trainy['weight']*trainy.shape[0])/(trainy['weight'].sum())\n",
    "    del(trainy['absout'])\n",
    "    return trainy"
   ]
  },
  {
   "cell_type": "code",
   "execution_count": 16,
   "metadata": {},
   "outputs": [],
   "source": [
    "weightdic = {0.08:3, 0.05:2, 0.01:1.5}"
   ]
  },
  {
   "cell_type": "code",
   "execution_count": 17,
   "metadata": {},
   "outputs": [
    {
     "name": "stdout",
     "output_type": "stream",
     "text": [
      "----- EPOCH 0------\n",
      "预测时间： ['2019-01-02', '2019-01-03', '2019-01-04', '2019-01-07', '2019-01-08', '2019-01-09', '2019-01-10', '2019-01-11', '2019-01-14', '2019-01-15', '2019-01-16', '2019-01-17', '2019-01-18', '2019-01-21', '2019-01-22', '2019-01-23', '2019-01-24', '2019-01-25', '2019-01-28', '2019-01-29', '2019-01-30', '2019-01-31']\n",
      "数据大小： (1589021, 337) (78389, 337)\n",
      "处理前无效值: train1, test1\n",
      "处理后无效值: train0, test0\n",
      "exclude extreme values\n",
      "deal with null values\n",
      "缺失值: train136, test119\n",
      "do neutralization\n",
      "do standardization\n"
     ]
    },
    {
     "name": "stderr",
     "output_type": "stream",
     "text": [
      "/home/liufengyuan/anaconda3/lib/python3.9/site-packages/sklearn/utils/extmath.py:985: RuntimeWarning: invalid value encountered in true_divide\n",
      "  updated_mean = (last_sum + new_sum) / updated_sample_count\n",
      "/home/liufengyuan/anaconda3/lib/python3.9/site-packages/sklearn/utils/extmath.py:990: RuntimeWarning: invalid value encountered in true_divide\n",
      "  T = new_sum / new_sample_count\n",
      "/home/liufengyuan/anaconda3/lib/python3.9/site-packages/sklearn/utils/extmath.py:1020: RuntimeWarning: invalid value encountered in true_divide\n",
      "  new_unnormalized_variance -= correction ** 2 / new_sample_count\n"
     ]
    },
    {
     "name": "stdout",
     "output_type": "stream",
     "text": [
      "处理后x: (1542090, 300) (77896, 300)\n",
      "处理后y: (1542090, 1) (77896, 1)\n"
     ]
    },
    {
     "name": "stderr",
     "output_type": "stream",
     "text": [
      "/home/liufengyuan/anaconda3/lib/python3.9/site-packages/lightgbm/engine.py:148: UserWarning: Found `num_boost_round` in params. Will use it instead of argument\n",
      "  _log_warning(\"Found `{}` in params. Will use it instead of argument\".format(alias))\n"
     ]
    },
    {
     "name": "stdout",
     "output_type": "stream",
     "text": [
      "[LightGBM] [Warning] Unknown parameter: lrlist\n",
      "[LightGBM] [Warning] Unknown parameter: lrlist\n",
      "[LightGBM] [Warning] Auto-choosing row-wise multi-threading, the overhead of testing was 0.091810 seconds.\n",
      "You can set `force_row_wise=true` to remove the overhead.\n",
      "And if memory is not enough, you can set `force_col_wise=true`.\n",
      "[LightGBM] [Info] Total Bins 18254\n",
      "[LightGBM] [Info] Number of data points in the train set: 1542090, number of used features: 291\n",
      "[LightGBM] [Info] Start training from score 0.500157\n",
      "耗时:1253.115818977356\n",
      "get result\n",
      "0.20530077848444458\n",
      "----- EPOCH 1------\n"
     ]
    },
    {
     "name": "stderr",
     "output_type": "stream",
     "text": [
      "/tmp/ipykernel_4464/734324227.py:82: FutureWarning: The frame.append method is deprecated and will be removed from pandas in a future version. Use pandas.concat instead.\n",
      "  df_result_all = df_result_all.append(df_result)\n"
     ]
    },
    {
     "name": "stdout",
     "output_type": "stream",
     "text": [
      "预测时间： ['2019-02-01', '2019-02-11', '2019-02-12', '2019-02-13', '2019-02-14', '2019-02-15', '2019-02-18', '2019-02-19', '2019-02-20', '2019-02-21', '2019-02-22', '2019-02-25', '2019-02-26', '2019-02-27', '2019-02-28', '2019-03-01', '2019-03-04', '2019-03-05', '2019-03-06', '2019-03-07', '2019-03-08', '2019-03-11']\n",
      "数据大小： (1604897, 337) (78716, 337)\n",
      "处理前无效值: train1, test1\n",
      "处理后无效值: train0, test0\n",
      "exclude extreme values\n",
      "deal with null values\n",
      "缺失值: train133, test117\n",
      "do neutralization\n",
      "do standardization\n"
     ]
    },
    {
     "name": "stderr",
     "output_type": "stream",
     "text": [
      "/home/liufengyuan/anaconda3/lib/python3.9/site-packages/sklearn/utils/extmath.py:985: RuntimeWarning: invalid value encountered in true_divide\n",
      "  updated_mean = (last_sum + new_sum) / updated_sample_count\n",
      "/home/liufengyuan/anaconda3/lib/python3.9/site-packages/sklearn/utils/extmath.py:990: RuntimeWarning: invalid value encountered in true_divide\n",
      "  T = new_sum / new_sample_count\n",
      "/home/liufengyuan/anaconda3/lib/python3.9/site-packages/sklearn/utils/extmath.py:1020: RuntimeWarning: invalid value encountered in true_divide\n",
      "  new_unnormalized_variance -= correction ** 2 / new_sample_count\n"
     ]
    },
    {
     "name": "stdout",
     "output_type": "stream",
     "text": [
      "处理后x: (1559338, 300) (78315, 300)\n",
      "处理后y: (1559338, 1) (78315, 1)\n"
     ]
    },
    {
     "name": "stderr",
     "output_type": "stream",
     "text": [
      "/home/liufengyuan/anaconda3/lib/python3.9/site-packages/lightgbm/engine.py:148: UserWarning: Found `num_boost_round` in params. Will use it instead of argument\n",
      "  _log_warning(\"Found `{}` in params. Will use it instead of argument\".format(alias))\n"
     ]
    },
    {
     "name": "stdout",
     "output_type": "stream",
     "text": [
      "[LightGBM] [Warning] Unknown parameter: lrlist\n",
      "[LightGBM] [Warning] Unknown parameter: lrlist\n",
      "[LightGBM] [Warning] Auto-choosing col-wise multi-threading, the overhead of testing was 0.532697 seconds.\n",
      "You can set `force_col_wise=true` to remove the overhead.\n",
      "[LightGBM] [Info] Total Bins 18186\n",
      "[LightGBM] [Info] Number of data points in the train set: 1559338, number of used features: 290\n",
      "[LightGBM] [Info] Start training from score 0.500155\n",
      "耗时:2531.5060296058655\n",
      "get result\n",
      "0.20574775168896986\n",
      "----- EPOCH 2------\n"
     ]
    },
    {
     "name": "stderr",
     "output_type": "stream",
     "text": [
      "/tmp/ipykernel_4464/734324227.py:82: FutureWarning: The frame.append method is deprecated and will be removed from pandas in a future version. Use pandas.concat instead.\n",
      "  df_result_all = df_result_all.append(df_result)\n"
     ]
    },
    {
     "name": "stdout",
     "output_type": "stream",
     "text": [
      "预测时间： ['2019-03-12', '2019-03-13', '2019-03-14', '2019-03-15', '2019-03-18', '2019-03-19', '2019-03-20', '2019-03-21', '2019-03-22', '2019-03-25', '2019-03-26', '2019-03-27', '2019-03-28', '2019-03-29', '2019-04-01', '2019-04-02', '2019-04-03', '2019-04-04', '2019-04-08', '2019-04-09', '2019-04-10', '2019-04-11']\n",
      "数据大小： (1619557, 337) (78939, 337)\n",
      "处理前无效值: train1, test1\n",
      "处理后无效值: train0, test0\n",
      "exclude extreme values\n",
      "deal with null values\n",
      "缺失值: train133, test118\n",
      "do neutralization\n",
      "do standardization\n"
     ]
    },
    {
     "name": "stderr",
     "output_type": "stream",
     "text": [
      "/home/liufengyuan/anaconda3/lib/python3.9/site-packages/sklearn/utils/extmath.py:985: RuntimeWarning: invalid value encountered in true_divide\n",
      "  updated_mean = (last_sum + new_sum) / updated_sample_count\n",
      "/home/liufengyuan/anaconda3/lib/python3.9/site-packages/sklearn/utils/extmath.py:990: RuntimeWarning: invalid value encountered in true_divide\n",
      "  T = new_sum / new_sample_count\n",
      "/home/liufengyuan/anaconda3/lib/python3.9/site-packages/sklearn/utils/extmath.py:1020: RuntimeWarning: invalid value encountered in true_divide\n",
      "  new_unnormalized_variance -= correction ** 2 / new_sample_count\n"
     ]
    },
    {
     "name": "stdout",
     "output_type": "stream",
     "text": [
      "处理后x: (1575241, 300) (78344, 300)\n",
      "处理后y: (1575241, 1) (78344, 1)\n"
     ]
    },
    {
     "name": "stderr",
     "output_type": "stream",
     "text": [
      "/home/liufengyuan/anaconda3/lib/python3.9/site-packages/lightgbm/engine.py:148: UserWarning: Found `num_boost_round` in params. Will use it instead of argument\n",
      "  _log_warning(\"Found `{}` in params. Will use it instead of argument\".format(alias))\n"
     ]
    },
    {
     "name": "stdout",
     "output_type": "stream",
     "text": [
      "[LightGBM] [Warning] Unknown parameter: lrlist\n",
      "[LightGBM] [Warning] Unknown parameter: lrlist\n",
      "[LightGBM] [Warning] Auto-choosing row-wise multi-threading, the overhead of testing was 0.097806 seconds.\n",
      "You can set `force_row_wise=true` to remove the overhead.\n",
      "And if memory is not enough, you can set `force_col_wise=true`.\n",
      "[LightGBM] [Info] Total Bins 18371\n",
      "[LightGBM] [Info] Number of data points in the train set: 1575241, number of used features: 293\n",
      "[LightGBM] [Info] Start training from score 0.500154\n",
      "耗时:3808.5937333106995\n",
      "get result\n",
      "0.1768091160346741\n",
      "----- EPOCH 3------\n"
     ]
    },
    {
     "name": "stderr",
     "output_type": "stream",
     "text": [
      "/tmp/ipykernel_4464/734324227.py:82: FutureWarning: The frame.append method is deprecated and will be removed from pandas in a future version. Use pandas.concat instead.\n",
      "  df_result_all = df_result_all.append(df_result)\n"
     ]
    },
    {
     "name": "stdout",
     "output_type": "stream",
     "text": [
      "预测时间： ['2019-04-12', '2019-04-15', '2019-04-16', '2019-04-17', '2019-04-18', '2019-04-19', '2019-04-22', '2019-04-23', '2019-04-24', '2019-04-25', '2019-04-26', '2019-04-29', '2019-04-30', '2019-05-06', '2019-05-07', '2019-05-08', '2019-05-09', '2019-05-10', '2019-05-13', '2019-05-14', '2019-05-15', '2019-05-16']\n",
      "数据大小： (1633509, 337) (79104, 337)\n",
      "处理前无效值: train1, test1\n",
      "处理后无效值: train0, test0\n",
      "exclude extreme values\n",
      "deal with null values\n",
      "缺失值: train133, test115\n",
      "do neutralization\n",
      "do standardization\n"
     ]
    },
    {
     "name": "stderr",
     "output_type": "stream",
     "text": [
      "/home/liufengyuan/anaconda3/lib/python3.9/site-packages/sklearn/utils/extmath.py:985: RuntimeWarning: invalid value encountered in true_divide\n",
      "  updated_mean = (last_sum + new_sum) / updated_sample_count\n",
      "/home/liufengyuan/anaconda3/lib/python3.9/site-packages/sklearn/utils/extmath.py:990: RuntimeWarning: invalid value encountered in true_divide\n",
      "  T = new_sum / new_sample_count\n",
      "/home/liufengyuan/anaconda3/lib/python3.9/site-packages/sklearn/utils/extmath.py:1020: RuntimeWarning: invalid value encountered in true_divide\n",
      "  new_unnormalized_variance -= correction ** 2 / new_sample_count\n"
     ]
    },
    {
     "name": "stdout",
     "output_type": "stream",
     "text": [
      "处理后x: (1590325, 300) (78527, 300)\n",
      "处理后y: (1590325, 1) (78527, 1)\n"
     ]
    },
    {
     "name": "stderr",
     "output_type": "stream",
     "text": [
      "/home/liufengyuan/anaconda3/lib/python3.9/site-packages/lightgbm/engine.py:148: UserWarning: Found `num_boost_round` in params. Will use it instead of argument\n",
      "  _log_warning(\"Found `{}` in params. Will use it instead of argument\".format(alias))\n"
     ]
    },
    {
     "name": "stdout",
     "output_type": "stream",
     "text": [
      "[LightGBM] [Warning] Unknown parameter: lrlist\n",
      "[LightGBM] [Warning] Unknown parameter: lrlist\n",
      "[LightGBM] [Warning] Auto-choosing col-wise multi-threading, the overhead of testing was 0.440906 seconds.\n",
      "You can set `force_col_wise=true` to remove the overhead.\n",
      "[LightGBM] [Info] Total Bins 18370\n",
      "[LightGBM] [Info] Number of data points in the train set: 1590325, number of used features: 293\n",
      "[LightGBM] [Info] Start training from score 0.500154\n",
      "耗时:5111.082169055939\n",
      "get result\n",
      "0.17615340571558716\n",
      "----- EPOCH 4------\n"
     ]
    },
    {
     "name": "stderr",
     "output_type": "stream",
     "text": [
      "/tmp/ipykernel_4464/734324227.py:82: FutureWarning: The frame.append method is deprecated and will be removed from pandas in a future version. Use pandas.concat instead.\n",
      "  df_result_all = df_result_all.append(df_result)\n"
     ]
    },
    {
     "name": "stdout",
     "output_type": "stream",
     "text": [
      "预测时间： ['2019-05-17', '2019-05-20', '2019-05-21', '2019-05-22', '2019-05-23', '2019-05-24', '2019-05-27', '2019-05-28', '2019-05-29', '2019-05-30', '2019-05-31', '2019-06-03', '2019-06-04', '2019-06-05', '2019-06-06', '2019-06-10', '2019-06-11', '2019-06-12', '2019-06-13', '2019-06-14', '2019-06-17', '2019-06-18']\n",
      "数据大小： (1646553, 337) (79308, 337)\n",
      "处理前无效值: train1, test1\n",
      "处理后无效值: train0, test0\n",
      "exclude extreme values\n",
      "deal with null values\n",
      "缺失值: train133, test116\n",
      "do neutralization\n",
      "do standardization\n"
     ]
    },
    {
     "name": "stderr",
     "output_type": "stream",
     "text": [
      "/home/liufengyuan/anaconda3/lib/python3.9/site-packages/sklearn/utils/extmath.py:985: RuntimeWarning: invalid value encountered in true_divide\n",
      "  updated_mean = (last_sum + new_sum) / updated_sample_count\n",
      "/home/liufengyuan/anaconda3/lib/python3.9/site-packages/sklearn/utils/extmath.py:990: RuntimeWarning: invalid value encountered in true_divide\n",
      "  T = new_sum / new_sample_count\n",
      "/home/liufengyuan/anaconda3/lib/python3.9/site-packages/sklearn/utils/extmath.py:1020: RuntimeWarning: invalid value encountered in true_divide\n",
      "  new_unnormalized_variance -= correction ** 2 / new_sample_count\n"
     ]
    },
    {
     "name": "stdout",
     "output_type": "stream",
     "text": [
      "处理后x: (1604962, 300) (78831, 300)\n",
      "处理后y: (1604962, 1) (78831, 1)\n"
     ]
    },
    {
     "name": "stderr",
     "output_type": "stream",
     "text": [
      "/home/liufengyuan/anaconda3/lib/python3.9/site-packages/lightgbm/engine.py:148: UserWarning: Found `num_boost_round` in params. Will use it instead of argument\n",
      "  _log_warning(\"Found `{}` in params. Will use it instead of argument\".format(alias))\n"
     ]
    },
    {
     "name": "stdout",
     "output_type": "stream",
     "text": [
      "[LightGBM] [Warning] Unknown parameter: lrlist\n",
      "[LightGBM] [Warning] Unknown parameter: lrlist\n",
      "[LightGBM] [Warning] Auto-choosing col-wise multi-threading, the overhead of testing was 0.445981 seconds.\n",
      "You can set `force_col_wise=true` to remove the overhead.\n",
      "[LightGBM] [Info] Total Bins 18369\n",
      "[LightGBM] [Info] Number of data points in the train set: 1604962, number of used features: 293\n",
      "[LightGBM] [Info] Start training from score 0.500153\n",
      "耗时:6407.420809984207\n",
      "get result\n",
      "0.20063199441677745\n",
      "----- EPOCH 5------\n"
     ]
    },
    {
     "name": "stderr",
     "output_type": "stream",
     "text": [
      "/tmp/ipykernel_4464/734324227.py:82: FutureWarning: The frame.append method is deprecated and will be removed from pandas in a future version. Use pandas.concat instead.\n",
      "  df_result_all = df_result_all.append(df_result)\n"
     ]
    },
    {
     "name": "stdout",
     "output_type": "stream",
     "text": [
      "预测时间： ['2019-06-19', '2019-06-20', '2019-06-21', '2019-06-24', '2019-06-25', '2019-06-26', '2019-06-27', '2019-06-28', '2019-07-01', '2019-07-02', '2019-07-03', '2019-07-04', '2019-07-05', '2019-07-08', '2019-07-09', '2019-07-10', '2019-07-11', '2019-07-12', '2019-07-15', '2019-07-16', '2019-07-17', '2019-07-18']\n",
      "数据大小： (1658783, 337) (79538, 337)\n",
      "处理前无效值: train1, test1\n",
      "处理后无效值: train0, test0\n",
      "exclude extreme values\n",
      "deal with null values\n",
      "缺失值: train133, test116\n",
      "do neutralization\n",
      "do standardization\n"
     ]
    },
    {
     "name": "stderr",
     "output_type": "stream",
     "text": [
      "/home/liufengyuan/anaconda3/lib/python3.9/site-packages/sklearn/utils/extmath.py:985: RuntimeWarning: invalid value encountered in true_divide\n",
      "  updated_mean = (last_sum + new_sum) / updated_sample_count\n",
      "/home/liufengyuan/anaconda3/lib/python3.9/site-packages/sklearn/utils/extmath.py:990: RuntimeWarning: invalid value encountered in true_divide\n",
      "  T = new_sum / new_sample_count\n",
      "/home/liufengyuan/anaconda3/lib/python3.9/site-packages/sklearn/utils/extmath.py:1020: RuntimeWarning: invalid value encountered in true_divide\n",
      "  new_unnormalized_variance -= correction ** 2 / new_sample_count\n"
     ]
    },
    {
     "name": "stdout",
     "output_type": "stream",
     "text": [
      "处理后x: (1619283, 300) (79146, 300)\n",
      "处理后y: (1619283, 1) (79146, 1)\n"
     ]
    },
    {
     "name": "stderr",
     "output_type": "stream",
     "text": [
      "/home/liufengyuan/anaconda3/lib/python3.9/site-packages/lightgbm/engine.py:148: UserWarning: Found `num_boost_round` in params. Will use it instead of argument\n",
      "  _log_warning(\"Found `{}` in params. Will use it instead of argument\".format(alias))\n"
     ]
    },
    {
     "name": "stdout",
     "output_type": "stream",
     "text": [
      "[LightGBM] [Warning] Unknown parameter: lrlist\n",
      "[LightGBM] [Warning] Unknown parameter: lrlist\n",
      "[LightGBM] [Warning] Auto-choosing row-wise multi-threading, the overhead of testing was 0.103985 seconds.\n",
      "You can set `force_row_wise=true` to remove the overhead.\n",
      "And if memory is not enough, you can set `force_col_wise=true`.\n",
      "[LightGBM] [Info] Total Bins 18379\n",
      "[LightGBM] [Info] Number of data points in the train set: 1619283, number of used features: 293\n",
      "[LightGBM] [Info] Start training from score 0.500153\n",
      "耗时:7726.72244477272\n",
      "get result\n",
      "0.20111089466427437\n",
      "----- EPOCH 6------\n"
     ]
    },
    {
     "name": "stderr",
     "output_type": "stream",
     "text": [
      "/tmp/ipykernel_4464/734324227.py:82: FutureWarning: The frame.append method is deprecated and will be removed from pandas in a future version. Use pandas.concat instead.\n",
      "  df_result_all = df_result_all.append(df_result)\n"
     ]
    },
    {
     "name": "stdout",
     "output_type": "stream",
     "text": [
      "预测时间： ['2019-07-19', '2019-07-22', '2019-07-23', '2019-07-24', '2019-07-25', '2019-07-26', '2019-07-29', '2019-07-30', '2019-07-31', '2019-08-01', '2019-08-02', '2019-08-05', '2019-08-06', '2019-08-07', '2019-08-08', '2019-08-09', '2019-08-12', '2019-08-13', '2019-08-14', '2019-08-15', '2019-08-16', '2019-08-19']\n",
      "数据大小： (1670623, 337) (80252, 337)\n",
      "处理前无效值: train1, test1\n",
      "处理后无效值: train0, test0\n",
      "exclude extreme values\n",
      "deal with null values\n",
      "缺失值: train133, test116\n",
      "do neutralization\n",
      "do standardization\n"
     ]
    },
    {
     "name": "stderr",
     "output_type": "stream",
     "text": [
      "/home/liufengyuan/anaconda3/lib/python3.9/site-packages/sklearn/utils/extmath.py:985: RuntimeWarning: invalid value encountered in true_divide\n",
      "  updated_mean = (last_sum + new_sum) / updated_sample_count\n",
      "/home/liufengyuan/anaconda3/lib/python3.9/site-packages/sklearn/utils/extmath.py:990: RuntimeWarning: invalid value encountered in true_divide\n",
      "  T = new_sum / new_sample_count\n",
      "/home/liufengyuan/anaconda3/lib/python3.9/site-packages/sklearn/utils/extmath.py:1020: RuntimeWarning: invalid value encountered in true_divide\n",
      "  new_unnormalized_variance -= correction ** 2 / new_sample_count\n"
     ]
    },
    {
     "name": "stdout",
     "output_type": "stream",
     "text": [
      "处理后x: (1632932, 300) (79450, 300)\n",
      "处理后y: (1632932, 1) (79450, 1)\n"
     ]
    },
    {
     "name": "stderr",
     "output_type": "stream",
     "text": [
      "/home/liufengyuan/anaconda3/lib/python3.9/site-packages/lightgbm/engine.py:148: UserWarning: Found `num_boost_round` in params. Will use it instead of argument\n",
      "  _log_warning(\"Found `{}` in params. Will use it instead of argument\".format(alias))\n"
     ]
    },
    {
     "name": "stdout",
     "output_type": "stream",
     "text": [
      "[LightGBM] [Warning] Unknown parameter: lrlist\n",
      "[LightGBM] [Warning] Unknown parameter: lrlist\n",
      "[LightGBM] [Warning] Auto-choosing row-wise multi-threading, the overhead of testing was 0.096680 seconds.\n",
      "You can set `force_row_wise=true` to remove the overhead.\n",
      "And if memory is not enough, you can set `force_col_wise=true`.\n",
      "[LightGBM] [Info] Total Bins 18376\n",
      "[LightGBM] [Info] Number of data points in the train set: 1632932, number of used features: 293\n",
      "[LightGBM] [Info] Start training from score 0.500151\n",
      "耗时:9041.312566280365\n",
      "get result\n",
      "0.2145583584989679\n",
      "----- EPOCH 7------\n"
     ]
    },
    {
     "name": "stderr",
     "output_type": "stream",
     "text": [
      "/tmp/ipykernel_4464/734324227.py:82: FutureWarning: The frame.append method is deprecated and will be removed from pandas in a future version. Use pandas.concat instead.\n",
      "  df_result_all = df_result_all.append(df_result)\n"
     ]
    },
    {
     "name": "stdout",
     "output_type": "stream",
     "text": [
      "预测时间： ['2019-08-20', '2019-08-21', '2019-08-22', '2019-08-23', '2019-08-26', '2019-08-27', '2019-08-28', '2019-08-29', '2019-08-30', '2019-09-02', '2019-09-03', '2019-09-04', '2019-09-05', '2019-09-06', '2019-09-09', '2019-09-10', '2019-09-11', '2019-09-12', '2019-09-16', '2019-09-17', '2019-09-18', '2019-09-19']\n",
      "数据大小： (1682337, 337) (80595, 337)\n",
      "处理前无效值: train1, test1\n",
      "处理后无效值: train0, test0\n",
      "exclude extreme values\n",
      "deal with null values\n",
      "缺失值: train133, test115\n",
      "do neutralization\n",
      "do standardization\n"
     ]
    },
    {
     "name": "stderr",
     "output_type": "stream",
     "text": [
      "/home/liufengyuan/anaconda3/lib/python3.9/site-packages/sklearn/utils/extmath.py:985: RuntimeWarning: invalid value encountered in true_divide\n",
      "  updated_mean = (last_sum + new_sum) / updated_sample_count\n",
      "/home/liufengyuan/anaconda3/lib/python3.9/site-packages/sklearn/utils/extmath.py:990: RuntimeWarning: invalid value encountered in true_divide\n",
      "  T = new_sum / new_sample_count\n",
      "/home/liufengyuan/anaconda3/lib/python3.9/site-packages/sklearn/utils/extmath.py:1020: RuntimeWarning: invalid value encountered in true_divide\n",
      "  new_unnormalized_variance -= correction ** 2 / new_sample_count\n"
     ]
    },
    {
     "name": "stdout",
     "output_type": "stream",
     "text": [
      "处理后x: (1645995, 300) (80241, 300)\n",
      "处理后y: (1645995, 1) (80241, 1)\n"
     ]
    },
    {
     "name": "stderr",
     "output_type": "stream",
     "text": [
      "/home/liufengyuan/anaconda3/lib/python3.9/site-packages/lightgbm/engine.py:148: UserWarning: Found `num_boost_round` in params. Will use it instead of argument\n",
      "  _log_warning(\"Found `{}` in params. Will use it instead of argument\".format(alias))\n"
     ]
    },
    {
     "name": "stdout",
     "output_type": "stream",
     "text": [
      "[LightGBM] [Warning] Unknown parameter: lrlist\n",
      "[LightGBM] [Warning] Unknown parameter: lrlist\n",
      "[LightGBM] [Warning] Auto-choosing col-wise multi-threading, the overhead of testing was 0.543892 seconds.\n",
      "You can set `force_col_wise=true` to remove the overhead.\n",
      "[LightGBM] [Info] Total Bins 18376\n",
      "[LightGBM] [Info] Number of data points in the train set: 1645995, number of used features: 293\n",
      "[LightGBM] [Info] Start training from score 0.500149\n",
      "耗时:10379.05763721466\n",
      "get result\n",
      "0.20331029024257136\n",
      "----- EPOCH 8------\n"
     ]
    },
    {
     "name": "stderr",
     "output_type": "stream",
     "text": [
      "/tmp/ipykernel_4464/734324227.py:82: FutureWarning: The frame.append method is deprecated and will be removed from pandas in a future version. Use pandas.concat instead.\n",
      "  df_result_all = df_result_all.append(df_result)\n"
     ]
    },
    {
     "name": "stdout",
     "output_type": "stream",
     "text": [
      "预测时间： ['2019-09-20', '2019-09-23', '2019-09-24', '2019-09-25', '2019-09-26', '2019-09-27', '2019-09-30', '2019-10-08', '2019-10-09', '2019-10-10', '2019-10-11', '2019-10-14', '2019-10-15', '2019-10-16', '2019-10-17', '2019-10-18', '2019-10-21', '2019-10-22', '2019-10-23', '2019-10-24', '2019-10-25', '2019-10-28']\n",
      "数据大小： (1693351, 337) (80837, 337)\n",
      "处理前无效值: train1, test1\n",
      "处理后无效值: train0, test0\n",
      "exclude extreme values\n",
      "deal with null values\n",
      "缺失值: train133, test118\n",
      "do neutralization\n",
      "do standardization\n"
     ]
    },
    {
     "name": "stderr",
     "output_type": "stream",
     "text": [
      "/home/liufengyuan/anaconda3/lib/python3.9/site-packages/sklearn/utils/extmath.py:985: RuntimeWarning: invalid value encountered in true_divide\n",
      "  updated_mean = (last_sum + new_sum) / updated_sample_count\n",
      "/home/liufengyuan/anaconda3/lib/python3.9/site-packages/sklearn/utils/extmath.py:990: RuntimeWarning: invalid value encountered in true_divide\n",
      "  T = new_sum / new_sample_count\n",
      "/home/liufengyuan/anaconda3/lib/python3.9/site-packages/sklearn/utils/extmath.py:1020: RuntimeWarning: invalid value encountered in true_divide\n",
      "  new_unnormalized_variance -= correction ** 2 / new_sample_count\n"
     ]
    },
    {
     "name": "stdout",
     "output_type": "stream",
     "text": [
      "处理后x: (1658516, 300) (80491, 300)\n",
      "处理后y: (1658516, 1) (80491, 1)\n"
     ]
    },
    {
     "name": "stderr",
     "output_type": "stream",
     "text": [
      "/home/liufengyuan/anaconda3/lib/python3.9/site-packages/lightgbm/engine.py:148: UserWarning: Found `num_boost_round` in params. Will use it instead of argument\n",
      "  _log_warning(\"Found `{}` in params. Will use it instead of argument\".format(alias))\n"
     ]
    },
    {
     "name": "stdout",
     "output_type": "stream",
     "text": [
      "[LightGBM] [Warning] Unknown parameter: lrlist\n",
      "[LightGBM] [Warning] Unknown parameter: lrlist\n",
      "[LightGBM] [Warning] Auto-choosing row-wise multi-threading, the overhead of testing was 0.088502 seconds.\n",
      "You can set `force_row_wise=true` to remove the overhead.\n",
      "And if memory is not enough, you can set `force_col_wise=true`.\n",
      "[LightGBM] [Info] Total Bins 18380\n",
      "[LightGBM] [Info] Number of data points in the train set: 1658516, number of used features: 293\n",
      "[LightGBM] [Info] Start training from score 0.500148\n",
      "耗时:11721.6717171669\n",
      "get result\n",
      "0.18405530018397426\n",
      "----- EPOCH 9------\n"
     ]
    },
    {
     "name": "stderr",
     "output_type": "stream",
     "text": [
      "/tmp/ipykernel_4464/734324227.py:82: FutureWarning: The frame.append method is deprecated and will be removed from pandas in a future version. Use pandas.concat instead.\n",
      "  df_result_all = df_result_all.append(df_result)\n"
     ]
    },
    {
     "name": "stdout",
     "output_type": "stream",
     "text": [
      "预测时间： ['2019-10-29', '2019-10-30', '2019-10-31', '2019-11-01', '2019-11-04', '2019-11-05', '2019-11-06', '2019-11-07', '2019-11-08', '2019-11-11', '2019-11-12', '2019-11-13', '2019-11-14', '2019-11-15', '2019-11-18', '2019-11-19', '2019-11-20', '2019-11-21', '2019-11-22', '2019-11-25', '2019-11-26', '2019-11-27']\n",
      "数据大小： (1703142, 337) (81457, 337)\n",
      "处理前无效值: train1, test1\n",
      "处理后无效值: train0, test0\n",
      "exclude extreme values\n",
      "deal with null values\n",
      "缺失值: train133, test116\n",
      "do neutralization\n",
      "do standardization\n"
     ]
    },
    {
     "name": "stderr",
     "output_type": "stream",
     "text": [
      "/home/liufengyuan/anaconda3/lib/python3.9/site-packages/sklearn/utils/extmath.py:985: RuntimeWarning: invalid value encountered in true_divide\n",
      "  updated_mean = (last_sum + new_sum) / updated_sample_count\n",
      "/home/liufengyuan/anaconda3/lib/python3.9/site-packages/sklearn/utils/extmath.py:990: RuntimeWarning: invalid value encountered in true_divide\n",
      "  T = new_sum / new_sample_count\n",
      "/home/liufengyuan/anaconda3/lib/python3.9/site-packages/sklearn/utils/extmath.py:1020: RuntimeWarning: invalid value encountered in true_divide\n",
      "  new_unnormalized_variance -= correction ** 2 / new_sample_count\n"
     ]
    },
    {
     "name": "stdout",
     "output_type": "stream",
     "text": [
      "处理后x: (1670031, 300) (80759, 300)\n",
      "处理后y: (1670031, 1) (80759, 1)\n"
     ]
    },
    {
     "name": "stderr",
     "output_type": "stream",
     "text": [
      "/home/liufengyuan/anaconda3/lib/python3.9/site-packages/lightgbm/engine.py:148: UserWarning: Found `num_boost_round` in params. Will use it instead of argument\n",
      "  _log_warning(\"Found `{}` in params. Will use it instead of argument\".format(alias))\n"
     ]
    },
    {
     "name": "stdout",
     "output_type": "stream",
     "text": [
      "[LightGBM] [Warning] Unknown parameter: lrlist\n",
      "[LightGBM] [Warning] Unknown parameter: lrlist\n",
      "[LightGBM] [Warning] Auto-choosing row-wise multi-threading, the overhead of testing was 0.099852 seconds.\n",
      "You can set `force_row_wise=true` to remove the overhead.\n",
      "And if memory is not enough, you can set `force_col_wise=true`.\n",
      "[LightGBM] [Info] Total Bins 18378\n",
      "[LightGBM] [Info] Number of data points in the train set: 1670031, number of used features: 293\n",
      "[LightGBM] [Info] Start training from score 0.500147\n",
      "耗时:13065.148656129837\n",
      "get result\n",
      "0.1873729934407313\n",
      "----- EPOCH 10------\n"
     ]
    },
    {
     "name": "stderr",
     "output_type": "stream",
     "text": [
      "/tmp/ipykernel_4464/734324227.py:82: FutureWarning: The frame.append method is deprecated and will be removed from pandas in a future version. Use pandas.concat instead.\n",
      "  df_result_all = df_result_all.append(df_result)\n"
     ]
    },
    {
     "name": "stdout",
     "output_type": "stream",
     "text": [
      "预测时间： ['2019-11-28', '2019-11-29', '2019-12-02', '2019-12-03', '2019-12-04', '2019-12-05', '2019-12-06', '2019-12-09', '2019-12-10', '2019-12-11', '2019-12-12', '2019-12-13', '2019-12-16', '2019-12-17', '2019-12-18', '2019-12-19', '2019-12-20', '2019-12-23', '2019-12-24', '2019-12-25', '2019-12-26', '2019-12-27']\n",
      "数据大小： (1712395, 337) (82088, 337)\n",
      "处理前无效值: train1, test1\n",
      "处理后无效值: train0, test0\n",
      "exclude extreme values\n",
      "deal with null values\n",
      "缺失值: train133, test116\n",
      "do neutralization\n"
     ]
    },
    {
     "ename": "KeyboardInterrupt",
     "evalue": "",
     "output_type": "error",
     "traceback": [
      "\u001b[0;31m---------------------------------------------------------------------------\u001b[0m",
      "\u001b[0;31mKeyboardInterrupt\u001b[0m                         Traceback (most recent call last)",
      "\u001b[1;32m/home/liufengyuan/liufengyuan/research_second.ipynb Cell 17\u001b[0m in \u001b[0;36m<cell line: 4>\u001b[0;34m()\u001b[0m\n\u001b[1;32m     <a href='vscode-notebook-cell://ssh-remote%2B101.6.96.171/home/liufengyuan/liufengyuan/research_second.ipynb#ch0000016vscode-remote?line=42'>43</a>\u001b[0m idst_neutral \u001b[39m=\u001b[39m Neutralization()\n\u001b[1;32m     <a href='vscode-notebook-cell://ssh-remote%2B101.6.96.171/home/liufengyuan/liufengyuan/research_second.ipynb#ch0000016vscode-remote?line=43'>44</a>\u001b[0m idst_neutral \u001b[39m=\u001b[39m idst_neutral\u001b[39m.\u001b[39mfit(df_train)\n\u001b[0;32m---> <a href='vscode-notebook-cell://ssh-remote%2B101.6.96.171/home/liufengyuan/liufengyuan/research_second.ipynb#ch0000016vscode-remote?line=44'>45</a>\u001b[0m df_train \u001b[39m=\u001b[39m idst_neutral\u001b[39m.\u001b[39;49mtransform(df_train)\n\u001b[1;32m     <a href='vscode-notebook-cell://ssh-remote%2B101.6.96.171/home/liufengyuan/liufengyuan/research_second.ipynb#ch0000016vscode-remote?line=45'>46</a>\u001b[0m df_test \u001b[39m=\u001b[39m idst_neutral\u001b[39m.\u001b[39mtransform(df_test)\n\u001b[1;32m     <a href='vscode-notebook-cell://ssh-remote%2B101.6.96.171/home/liufengyuan/liufengyuan/research_second.ipynb#ch0000016vscode-remote?line=48'>49</a>\u001b[0m \u001b[39m# 标准化处理\u001b[39;00m\n",
      "\u001b[1;32m/home/liufengyuan/liufengyuan/research_second.ipynb Cell 17\u001b[0m in \u001b[0;36mNeutralization.transform\u001b[0;34m(self, df_name, f_x, f_idst)\u001b[0m\n\u001b[1;32m     <a href='vscode-notebook-cell://ssh-remote%2B101.6.96.171/home/liufengyuan/liufengyuan/research_second.ipynb#ch0000016vscode-remote?line=60'>61</a>\u001b[0m \u001b[39mdef\u001b[39;00m \u001b[39mtransform\u001b[39m(\u001b[39mself\u001b[39m, df_name, f_x \u001b[39m=\u001b[39m f_x, f_idst \u001b[39m=\u001b[39m f_industry):\n\u001b[1;32m     <a href='vscode-notebook-cell://ssh-remote%2B101.6.96.171/home/liufengyuan/liufengyuan/research_second.ipynb#ch0000016vscode-remote?line=61'>62</a>\u001b[0m     X \u001b[39m=\u001b[39m df_name[[\u001b[39m'\u001b[39m\u001b[39mlog_marketValue\u001b[39m\u001b[39m'\u001b[39m] \u001b[39m+\u001b[39m f_idst]\n\u001b[0;32m---> <a href='vscode-notebook-cell://ssh-remote%2B101.6.96.171/home/liufengyuan/liufengyuan/research_second.ipynb#ch0000016vscode-remote?line=62'>63</a>\u001b[0m     df_name[f_x] \u001b[39m=\u001b[39m df_name[f_x]\u001b[39m.\u001b[39mapply(\u001b[39mlambda\u001b[39;00m y: \u001b[39mself\u001b[39m\u001b[39m.\u001b[39mregr_pred(X, y))\n\u001b[1;32m     <a href='vscode-notebook-cell://ssh-remote%2B101.6.96.171/home/liufengyuan/liufengyuan/research_second.ipynb#ch0000016vscode-remote?line=63'>64</a>\u001b[0m     \u001b[39mreturn\u001b[39;00m df_name\n",
      "File \u001b[0;32m~/anaconda3/lib/python3.9/site-packages/pandas/core/frame.py:3643\u001b[0m, in \u001b[0;36mDataFrame.__setitem__\u001b[0;34m(self, key, value)\u001b[0m\n\u001b[1;32m   3641\u001b[0m     \u001b[39mself\u001b[39m\u001b[39m.\u001b[39m_setitem_frame(key, value)\n\u001b[1;32m   3642\u001b[0m \u001b[39melif\u001b[39;00m \u001b[39misinstance\u001b[39m(key, (Series, np\u001b[39m.\u001b[39mndarray, \u001b[39mlist\u001b[39m, Index)):\n\u001b[0;32m-> 3643\u001b[0m     \u001b[39mself\u001b[39;49m\u001b[39m.\u001b[39;49m_setitem_array(key, value)\n\u001b[1;32m   3644\u001b[0m \u001b[39melif\u001b[39;00m \u001b[39misinstance\u001b[39m(value, DataFrame):\n\u001b[1;32m   3645\u001b[0m     \u001b[39mself\u001b[39m\u001b[39m.\u001b[39m_set_item_frame_value(key, value)\n",
      "File \u001b[0;32m~/anaconda3/lib/python3.9/site-packages/pandas/core/frame.py:3687\u001b[0m, in \u001b[0;36mDataFrame._setitem_array\u001b[0;34m(self, key, value)\u001b[0m\n\u001b[1;32m   3685\u001b[0m     check_key_length(\u001b[39mself\u001b[39m\u001b[39m.\u001b[39mcolumns, key, value)\n\u001b[1;32m   3686\u001b[0m     \u001b[39mfor\u001b[39;00m k1, k2 \u001b[39min\u001b[39;00m \u001b[39mzip\u001b[39m(key, value\u001b[39m.\u001b[39mcolumns):\n\u001b[0;32m-> 3687\u001b[0m         \u001b[39mself\u001b[39m[k1] \u001b[39m=\u001b[39m value[k2]\n\u001b[1;32m   3689\u001b[0m \u001b[39melif\u001b[39;00m \u001b[39mnot\u001b[39;00m is_list_like(value):\n\u001b[1;32m   3690\u001b[0m     \u001b[39mfor\u001b[39;00m col \u001b[39min\u001b[39;00m key:\n",
      "File \u001b[0;32m~/anaconda3/lib/python3.9/site-packages/pandas/core/frame.py:3655\u001b[0m, in \u001b[0;36mDataFrame.__setitem__\u001b[0;34m(self, key, value)\u001b[0m\n\u001b[1;32m   3652\u001b[0m     \u001b[39mself\u001b[39m\u001b[39m.\u001b[39m_setitem_array([key], value)\n\u001b[1;32m   3653\u001b[0m \u001b[39melse\u001b[39;00m:\n\u001b[1;32m   3654\u001b[0m     \u001b[39m# set column\u001b[39;00m\n\u001b[0;32m-> 3655\u001b[0m     \u001b[39mself\u001b[39;49m\u001b[39m.\u001b[39;49m_set_item(key, value)\n",
      "File \u001b[0;32m~/anaconda3/lib/python3.9/site-packages/pandas/core/frame.py:3845\u001b[0m, in \u001b[0;36mDataFrame._set_item\u001b[0;34m(self, key, value)\u001b[0m\n\u001b[1;32m   3842\u001b[0m         \u001b[39mif\u001b[39;00m \u001b[39misinstance\u001b[39m(existing_piece, DataFrame):\n\u001b[1;32m   3843\u001b[0m             value \u001b[39m=\u001b[39m np\u001b[39m.\u001b[39mtile(value, (\u001b[39mlen\u001b[39m(existing_piece\u001b[39m.\u001b[39mcolumns), \u001b[39m1\u001b[39m))\u001b[39m.\u001b[39mT\n\u001b[0;32m-> 3845\u001b[0m \u001b[39mself\u001b[39;49m\u001b[39m.\u001b[39;49m_set_item_mgr(key, value)\n",
      "File \u001b[0;32m~/anaconda3/lib/python3.9/site-packages/pandas/core/frame.py:3804\u001b[0m, in \u001b[0;36mDataFrame._set_item_mgr\u001b[0;34m(self, key, value)\u001b[0m\n\u001b[1;32m   3802\u001b[0m     \u001b[39mself\u001b[39m\u001b[39m.\u001b[39m_mgr\u001b[39m.\u001b[39minsert(\u001b[39mlen\u001b[39m(\u001b[39mself\u001b[39m\u001b[39m.\u001b[39m_info_axis), key, value)\n\u001b[1;32m   3803\u001b[0m \u001b[39melse\u001b[39;00m:\n\u001b[0;32m-> 3804\u001b[0m     \u001b[39mself\u001b[39;49m\u001b[39m.\u001b[39;49m_iset_item_mgr(loc, value)\n\u001b[1;32m   3806\u001b[0m \u001b[39m# check if we are modifying a copy\u001b[39;00m\n\u001b[1;32m   3807\u001b[0m \u001b[39m# try to set first as we want an invalid\u001b[39;00m\n\u001b[1;32m   3808\u001b[0m \u001b[39m# value exception to occur first\u001b[39;00m\n\u001b[1;32m   3809\u001b[0m \u001b[39mif\u001b[39;00m \u001b[39mlen\u001b[39m(\u001b[39mself\u001b[39m):\n",
      "File \u001b[0;32m~/anaconda3/lib/python3.9/site-packages/pandas/core/frame.py:3794\u001b[0m, in \u001b[0;36mDataFrame._iset_item_mgr\u001b[0;34m(self, loc, value, inplace)\u001b[0m\n\u001b[1;32m   3790\u001b[0m \u001b[39mdef\u001b[39;00m \u001b[39m_iset_item_mgr\u001b[39m(\n\u001b[1;32m   3791\u001b[0m     \u001b[39mself\u001b[39m, loc: \u001b[39mint\u001b[39m \u001b[39m|\u001b[39m \u001b[39mslice\u001b[39m \u001b[39m|\u001b[39m np\u001b[39m.\u001b[39mndarray, value, inplace: \u001b[39mbool\u001b[39m \u001b[39m=\u001b[39m \u001b[39mFalse\u001b[39;00m\n\u001b[1;32m   3792\u001b[0m ) \u001b[39m-\u001b[39m\u001b[39m>\u001b[39m \u001b[39mNone\u001b[39;00m:\n\u001b[1;32m   3793\u001b[0m     \u001b[39m# when called from _set_item_mgr loc can be anything returned from get_loc\u001b[39;00m\n\u001b[0;32m-> 3794\u001b[0m     \u001b[39mself\u001b[39;49m\u001b[39m.\u001b[39;49m_mgr\u001b[39m.\u001b[39;49miset(loc, value, inplace\u001b[39m=\u001b[39;49minplace)\n\u001b[1;32m   3795\u001b[0m     \u001b[39mself\u001b[39m\u001b[39m.\u001b[39m_clear_item_cache()\n",
      "File \u001b[0;32m~/anaconda3/lib/python3.9/site-packages/pandas/core/internals/managers.py:1141\u001b[0m, in \u001b[0;36mBlockManager.iset\u001b[0;34m(self, loc, value, inplace)\u001b[0m\n\u001b[1;32m   1139\u001b[0m             removed_blknos\u001b[39m.\u001b[39mappend(blkno_l)\n\u001b[1;32m   1140\u001b[0m         \u001b[39melse\u001b[39;00m:\n\u001b[0;32m-> 1141\u001b[0m             blk\u001b[39m.\u001b[39;49mdelete(blk_locs)\n\u001b[1;32m   1142\u001b[0m             \u001b[39mself\u001b[39m\u001b[39m.\u001b[39m_blklocs[blk\u001b[39m.\u001b[39mmgr_locs\u001b[39m.\u001b[39mindexer] \u001b[39m=\u001b[39m np\u001b[39m.\u001b[39marange(\u001b[39mlen\u001b[39m(blk))\n\u001b[1;32m   1144\u001b[0m \u001b[39mif\u001b[39;00m \u001b[39mlen\u001b[39m(removed_blknos):\n\u001b[1;32m   1145\u001b[0m     \u001b[39m# Remove blocks & update blknos accordingly\u001b[39;00m\n",
      "File \u001b[0;32m~/anaconda3/lib/python3.9/site-packages/pandas/core/internals/blocks.py:388\u001b[0m, in \u001b[0;36mBlock.delete\u001b[0;34m(self, loc)\u001b[0m\n\u001b[1;32m    379\u001b[0m \u001b[39m\"\"\"\u001b[39;00m\n\u001b[1;32m    380\u001b[0m \u001b[39mDelete given loc(-s) from block in-place.\u001b[39;00m\n\u001b[1;32m    381\u001b[0m \u001b[39m\"\"\"\u001b[39;00m\n\u001b[1;32m    382\u001b[0m \u001b[39m# Argument 1 to \"delete\" has incompatible type \"Union[ndarray[Any, Any],\u001b[39;00m\n\u001b[1;32m    383\u001b[0m \u001b[39m# ExtensionArray]\"; expected \"Union[_SupportsArray[dtype[Any]],\u001b[39;00m\n\u001b[1;32m    384\u001b[0m \u001b[39m# Sequence[_SupportsArray[dtype[Any]]], Sequence[Sequence\u001b[39;00m\n\u001b[1;32m    385\u001b[0m \u001b[39m# [_SupportsArray[dtype[Any]]]], Sequence[Sequence[Sequence[\u001b[39;00m\n\u001b[1;32m    386\u001b[0m \u001b[39m# _SupportsArray[dtype[Any]]]]], Sequence[Sequence[Sequence[Sequence[\u001b[39;00m\n\u001b[1;32m    387\u001b[0m \u001b[39m# _SupportsArray[dtype[Any]]]]]]]\"  [arg-type]\u001b[39;00m\n\u001b[0;32m--> 388\u001b[0m \u001b[39mself\u001b[39m\u001b[39m.\u001b[39mvalues \u001b[39m=\u001b[39m np\u001b[39m.\u001b[39;49mdelete(\u001b[39mself\u001b[39;49m\u001b[39m.\u001b[39;49mvalues, loc, \u001b[39m0\u001b[39;49m)  \u001b[39m# type: ignore[arg-type]\u001b[39;00m\n\u001b[1;32m    389\u001b[0m \u001b[39mself\u001b[39m\u001b[39m.\u001b[39mmgr_locs \u001b[39m=\u001b[39m \u001b[39mself\u001b[39m\u001b[39m.\u001b[39m_mgr_locs\u001b[39m.\u001b[39mdelete(loc)\n\u001b[1;32m    390\u001b[0m \u001b[39mtry\u001b[39;00m:\n",
      "File \u001b[0;32m<__array_function__ internals>:5\u001b[0m, in \u001b[0;36mdelete\u001b[0;34m(*args, **kwargs)\u001b[0m\n",
      "File \u001b[0;32m~/anaconda3/lib/python3.9/site-packages/numpy/lib/function_base.py:4555\u001b[0m, in \u001b[0;36mdelete\u001b[0;34m(arr, obj, axis)\u001b[0m\n\u001b[1;32m   4552\u001b[0m         keep[obj,] \u001b[39m=\u001b[39m \u001b[39mFalse\u001b[39;00m\n\u001b[1;32m   4554\u001b[0m     slobj[axis] \u001b[39m=\u001b[39m keep\n\u001b[0;32m-> 4555\u001b[0m     new \u001b[39m=\u001b[39m arr[\u001b[39mtuple\u001b[39;49m(slobj)]\n\u001b[1;32m   4557\u001b[0m \u001b[39mif\u001b[39;00m wrap:\n\u001b[1;32m   4558\u001b[0m     \u001b[39mreturn\u001b[39;00m wrap(new)\n",
      "\u001b[0;31mKeyboardInterrupt\u001b[0m: "
     ]
    }
   ],
   "source": [
    "df_result_all = pd.DataFrame()\n",
    "total_IC = 0\n",
    "start = time.time()\n",
    "for epoch in epoch_range:\n",
    "    print('----- EPOCH {}------'.format(epoch))\n",
    "    update_n = epoch * update\n",
    "    # get a list of train dates\n",
    "    epoch_t_train = epoch_ts[train_si + update_n : train_ei + update_n]\n",
    "    # get a list of test dates\n",
    "    epoch_t_test = epoch_ts[test_si + update_n : test_ei + update_n]\n",
    "    df_train = df1[df1.tradeDate.apply(lambda x: x in epoch_t_train)].reset_index(drop=True)\n",
    "    df_test = df1[df1.tradeDate.apply(lambda x: x in epoch_t_test)].reset_index(drop=True)\n",
    "    print('预测时间：', epoch_t_test)\n",
    "    print('数据大小：', df_train.shape, df_test.shape)\n",
    "\n",
    "\n",
    "    print('处理前无效值: train{}, test{}'.format(df_train[f_y].isnull().any().sum(), \n",
    "    df_test[f_y].isnull().any().sum()))\n",
    "    df_train = df_train[~df_train.log_marketValue.isnull()]\n",
    "    df_train = df_train[~df_train.openclose_pct1_rank.isnull()]\n",
    "    df_test = df_test[~df_test.log_marketValue.isnull()]\n",
    "    df_test = df_test[~df_test.openclose_pct1_rank.isnull()]\n",
    "    print('处理后无效值: train{}, test{}'.format(df_train[f_y].isnull().any().sum(), \n",
    "    df_test[f_y].isnull().any().sum()))\n",
    "\n",
    "    # 中位数去极值\n",
    "    print('exclude extreme values')\n",
    "    mevtransformer = ExcludeExtreme()\n",
    "    mevtransformer.fit(df_train[f_x])\n",
    "    df_train[f_x] = mevtransformer.transform(df_train[f_x])\n",
    "    df_test[f_x] = mevtransformer.transform(df_test[f_x])\n",
    "\n",
    "    # 缺失值处理\n",
    "    print('deal with null values')\n",
    "    gvfiller = FillEmpty()\n",
    "    gvfiller = gvfiller.fit(df_train)\n",
    "    df_train = gvfiller.transform(df_train)\n",
    "    df_test = gvfiller.transform(df_test)\n",
    "    print('缺失值: train{}, test{}'.format(df_train[f_x].isnull().any().sum(), df_test[f_x].isnull().any().sum()))\n",
    "\n",
    "    # 行业中性处理\n",
    "    print('do neutralization')\n",
    "    idst_neutral = Neutralization()\n",
    "    idst_neutral = idst_neutral.fit(df_train)\n",
    "    df_train = idst_neutral.transform(df_train)\n",
    "    df_test = idst_neutral.transform(df_test)\n",
    "\n",
    "\n",
    "    # 标准化处理\n",
    "    print('do standardization')\n",
    "    scaler = StandardScaler()\n",
    "    scaler = scaler.fit(df_train[f_x])\n",
    "    df_train[f_x] = scaler.transform(df_train[f_x])\n",
    "    df_test[f_x] = scaler.transform(df_test[f_x])\n",
    "\n",
    "\n",
    "    # 获得 x\n",
    "    x_train = df_train[f_x].values\n",
    "    x_test = df_test[f_x].values\n",
    "    print('处理后x:', x_train.shape, x_test.shape)\n",
    "\n",
    "    # 获得y\n",
    "    y_train = df_train[['openclose_pct1_rank']]\n",
    "    y_test = df_test[['openclose_pct1_rank']]\n",
    "    print('处理后y:', y_train.shape, y_test.shape)\n",
    "    lgb_train = lgb.Dataset(x_train, y_train[f_y].values)\n",
    "    model = lgb.train(params,\n",
    "                    lgb_train,\n",
    "                    num_boost_round=params['num_boost_round'],\n",
    "                    callbacks = [lgb.reset_parameter(learning_rate = params['lrlist'])]\n",
    "                    )\n",
    "    y_pred = model.predict(x_test)\n",
    "\n",
    "    # 获得结果\n",
    "    print(f'耗时:{time.time() - start}')\n",
    "    print('get result')\n",
    "    df_result = df_test[f_index].copy()\n",
    "    df_result['y'] = y_test[f_y].values\n",
    "    df_result['y_pred'] = y_pred\n",
    "    IC = df_result[['y', 'y_pred']].corr().iloc[0,1]\n",
    "    print(IC)\n",
    "    df_result_all = df_result_all.append(df_result)\n",
    "\n",
    "print(f'耗时:{time.time() - start}') \n",
    "print('sort values')\n",
    "df_result_all = df_result_all.sort_values(by=['ticker', 'tradeDate']).reset_index(drop=True)\n",
    "IC = df_result_all[['y', 'y_pred']].corr().iloc[0,1]\n",
    "today = (datetime.datetime.now()).strftime(\"%Y-%m-%d:%H:%M:%S\")\n",
    "df_result_all.to_csv('{}/{}/{}{}_{}.csv'.format(file_location, file_type, result_name, today, round(IC, 4)), index=False)\n",
    "print('======== COMPLETED {} {} ========'.format(model_name, IC))\n"
   ]
  },
  {
   "cell_type": "code",
   "execution_count": null,
   "metadata": {},
   "outputs": [],
   "source": []
  }
 ],
 "metadata": {
  "kernelspec": {
   "display_name": "Python 3.9.12 64-bit ('anaconda3')",
   "language": "python",
   "name": "python3"
  },
  "language_info": {
   "codemirror_mode": {
    "name": "ipython",
    "version": 3
   },
   "file_extension": ".py",
   "mimetype": "text/x-python",
   "name": "python",
   "nbconvert_exporter": "python",
   "pygments_lexer": "ipython3",
   "version": "3.9.12"
  },
  "orig_nbformat": 4,
  "vscode": {
   "interpreter": {
    "hash": "c42134df2ed6deac90625544f3056fe13de23497ed2b533b0a9fd7dc039413f4"
   }
  }
 },
 "nbformat": 4,
 "nbformat_minor": 2
}
