{
 "cells": [
  {
   "cell_type": "code",
   "execution_count": 1,
   "metadata": {
    "collapsed": false,
    "pycharm": {
     "is_executing": true,
     "name": "#%%\n"
    }
   },
   "outputs": [
    {
     "name": "stdout",
     "output_type": "stream",
     "text": [
      "0.24.2\n"
     ]
    }
   ],
   "source": [
    "import sklearn\n",
    "print(sklearn.__version__)"
   ]
  },
  {
   "cell_type": "code",
   "execution_count": 2,
   "metadata": {
    "collapsed": false,
    "pycharm": {
     "name": "#%%\n"
    }
   },
   "outputs": [],
   "source": [
    "import numpy as np\n",
    "import pandas as pd\n",
    "import matplotlib.pyplot as plt\n",
    "\n",
    "import seaborn as sns\n",
    "from sklearn.linear_model import LogisticRegression\n",
    "from sklearn.metrics import classification_report\n",
    "from sklearn.metrics import accuracy_score\n",
    "from sklearn.metrics import confusion_matrix\n",
    "from sklearn.metrics import plot_roc_curve\n",
    "from sklearn.metrics import precision_recall_curve\n",
    "from sklearn.model_selection import train_test_split\n",
    "from sklearn.preprocessing import OneHotEncoder\n",
    "\n",
    "%matplotlib inline\n",
    "seed = 1031"
   ]
  },
  {
   "cell_type": "code",
   "execution_count": null,
   "metadata": {
    "collapsed": false,
    "pycharm": {
     "name": "#%%\n"
    }
   },
   "outputs": [],
   "source": [
    "from sklearn.datasets import fetch_openml\n",
    "X, y = fetch_openml('mnist_784', version=1, return_X_y=True)\n",
    "y = y.astype(int)\n"
   ]
  },
  {
   "cell_type": "code",
   "execution_count": null,
   "metadata": {
    "collapsed": false,
    "pycharm": {
     "name": "#%%\n"
    }
   },
   "outputs": [],
   "source": [
    "X_train, X_test, y_train, y_test = train_test_split(X, y, test_size=0.2, random_state=seed)"
   ]
  },
  {
   "cell_type": "code",
   "execution_count": null,
   "metadata": {
    "collapsed": false,
    "pycharm": {
     "name": "#%%\n"
    }
   },
   "outputs": [
    {
     "name": "stderr",
     "output_type": "stream",
     "text": [
      "/workspace1/liufengyuan/.local/lib/python3.6/site-packages/seaborn/_decorators.py:43: FutureWarning: Pass the following variable as a keyword arg: x. From version 0.12, the only valid positional argument will be `data`, and passing other arguments without an explicit keyword will result in an error or misinterpretation.\n",
      "  FutureWarning\n"
     ]
    },
    {
     "data": {
      "text/plain": [
       "<AxesSubplot:xlabel='class', ylabel='count'>"
      ]
     },
     "execution_count": 5,
     "metadata": {},
     "output_type": "execute_result"
    },
    {
     "data": {
      "image/png": "[encoded data removed]",
      "text/plain": [
       "<Figure size 432x288 with 1 Axes>"
      ]
     },
     "metadata": {
      "needs_background": "light"
     },
     "output_type": "display_data"
    }
   ],
   "source": [
    "sns.countplot(y_test)"
   ]
  },
  {
   "cell_type": "code",
   "execution_count": null,
   "metadata": {
    "collapsed": false,
    "pycharm": {
     "name": "#%%\n"
    }
   },
   "outputs": [
    {
     "name": "stdout",
     "output_type": "stream",
     "text": [
      "X values\n",
      "X_train (10707, 784)\n",
      "X_test (2747, 784) \n",
      "\n",
      "y values\n",
      "y train (10707,)\n",
      "y test (2747,)\n"
     ]
    }
   ],
   "source": [
    "# Normalising the data\n",
    "X_train, X_test = X_train/255.0, X_test/255.0\n",
    "\n",
    "# Subset on only two numbers 3 and 5\n",
    "num1, num2 = 3, 5\n",
    "X_sub_train = X_train[(y_train == num1) | (y_train == num2)]\n",
    "y_sub_train = y_train[(y_train == num1) | (y_train == num2)]\n",
    "\n",
    "X_sub_test = X_test[(y_test == num1) | (y_test == num2)]\n",
    "y_sub_test = y_test[(y_test == num1) | (y_test == num2)]\n",
    "\n",
    "print('X values')\n",
    "print('X_train', X_sub_train.shape)\n",
    "print('X_test', X_sub_test.shape, '\\n')\n",
    "print('y values')\n",
    "print('y train', y_sub_train.shape)\n",
    "print('y test', y_sub_test.shape)"
   ]
  },
  {
   "cell_type": "code",
   "execution_count": null,
   "metadata": {
    "collapsed": false,
    "pycharm": {
     "name": "#%%\n"
    }
   },
   "outputs": [],
   "source": [
    "y_sub_train[y_sub_train == num1] = 1\n",
    "y_sub_train[y_sub_train == num2] = 0\n",
    "y_sub_test[y_sub_test == num1] = 1\n",
    "y_sub_test[y_sub_test == num2] = 0"
   ]
  },
  {
   "cell_type": "code",
   "execution_count": null,
   "metadata": {
    "collapsed": false,
    "pycharm": {
     "name": "#%%\n"
    }
   },
   "outputs": [
    {
     "name": "stderr",
     "output_type": "stream",
     "text": [
      "/workspace1/liufengyuan/.local/lib/python3.6/site-packages/sklearn/linear_model/_logistic.py:765: ConvergenceWarning: lbfgs failed to converge (status=1):\n",
      "STOP: TOTAL NO. of ITERATIONS REACHED LIMIT.\n",
      "\n",
      "Increase the number of iterations (max_iter) or scale the data as shown in:\n",
      "    https://scikit-learn.org/stable/modules/preprocessing.html\n",
      "Please also refer to the documentation for alternative solver options:\n",
      "    https://scikit-learn.org/stable/modules/linear_model.html#logistic-regression\n",
      "  extra_warning_msg=_LOGISTIC_SOLVER_CONVERGENCE_MSG)\n"
     ]
    },
    {
     "data": {
      "text/plain": [
       "LogisticRegression(max_iter=3)"
      ]
     },
     "execution_count": 8,
     "metadata": {},
     "output_type": "execute_result"
    }
   ],
   "source": [
    "model = LogisticRegression( max_iter=3 )\n",
    "model.fit( X_sub_train, y_sub_train )"
   ]
  },
  {
   "cell_type": "code",
   "execution_count": null,
   "metadata": {
    "collapsed": false,
    "pycharm": {
     "name": "#%%\n"
    }
   },
   "outputs": [
    {
     "name": "stdout",
     "output_type": "stream",
     "text": [
      "[0 1 1 ... 1 0 0]\n",
      "62445    0\n",
      "8039     1\n",
      "52059    1\n",
      "44312    1\n",
      "27975    0\n",
      "        ..\n",
      "46566    1\n",
      "24910    0\n",
      "53457    1\n",
      "43670    1\n",
      "7448     0\n",
      "Name: class, Length: 10707, dtype: int64\n",
      "0.8920332492761744\n"
     ]
    }
   ],
   "source": [
    "prediction = model.predict(X_sub_train)\n",
    "print(prediction)\n",
    "print(y_sub_train)\n",
    "print(accuracy_score(y_sub_train, prediction))"
   ]
  },
  {
   "cell_type": "code",
   "execution_count": null,
   "metadata": {
    "collapsed": false,
    "pycharm": {
     "name": "#%%\n"
    }
   },
   "outputs": [
    {
     "data": {
      "text/plain": [
       "<sklearn.metrics._plot.roc_curve.RocCurveDisplay at 0x7f1ff42f2c88>"
      ]
     },
     "execution_count": 10,
     "metadata": {},
     "output_type": "execute_result"
    },
    {
     "data": {
      "image/png": "[encoded data removed]",
      "text/plain": [
       "<Figure size 432x288 with 1 Axes>"
      ]
     },
     "metadata": {
      "needs_background": "light"
     },
     "output_type": "display_data"
    }
   ],
   "source": [
    "plot_roc_curve( model, X_sub_train, y_sub_train )"
   ]
  },
  {
   "cell_type": "code",
   "execution_count": null,
   "metadata": {
    "collapsed": false,
    "pycharm": {
     "name": "#%%\n"
    }
   },
   "outputs": [
    {
     "name": "stdout",
     "output_type": "stream",
     "text": [
      "              precision    recall  f1-score   support\n",
      "\n",
      "           0       0.92      0.84      0.88      5008\n",
      "           1       0.87      0.93      0.90      5699\n",
      "\n",
      "    accuracy                           0.89     10707\n",
      "   macro avg       0.90      0.89      0.89     10707\n",
      "weighted avg       0.89      0.89      0.89     10707\n",
      "\n",
      "[[4223  785]\n",
      " [ 371 5328]]\n"
     ]
    }
   ],
   "source": [
    "print( classification_report(y_sub_train, prediction) )\n",
    "print( confusion_matrix(y_sub_train, prediction))"
   ]
  },
  {
   "cell_type": "code",
   "execution_count": null,
   "metadata": {
    "collapsed": false,
    "pycharm": {
     "name": "#%%\n"
    }
   },
   "outputs": [
    {
     "name": "stdout",
     "output_type": "stream",
     "text": [
      "[1 1 1 ... 1 1 1]\n",
      "49       1\n",
      "19518    1\n",
      "5493     1\n",
      "66862    1\n",
      "50976    1\n",
      "        ..\n",
      "33448    0\n",
      "32421    1\n",
      "9078     1\n",
      "24442    1\n",
      "47955    0\n",
      "Name: class, Length: 2747, dtype: int64\n",
      "0.8904259191845649\n"
     ]
    }
   ],
   "source": [
    "prediction_test = model.predict(X_sub_test)\n",
    "print(prediction_test)\n",
    "print(y_sub_test)\n",
    "print(accuracy_score(y_sub_test, prediction_test))"
   ]
  },
  {
   "cell_type": "code",
   "execution_count": null,
   "metadata": {
    "collapsed": false,
    "pycharm": {
     "name": "#%%\n"
    }
   },
   "outputs": [
    {
     "data": {
      "image/png": "[encoded data removed]",
      "text/plain": [
       "<Figure size 432x288 with 1 Axes>"
      ]
     },
     "metadata": {
      "needs_background": "light"
     },
     "output_type": "display_data"
    }
   ],
   "source": [
    "plot_roc_curve( model, X_sub_test, y_sub_test );"
   ]
  },
  {
   "cell_type": "code",
   "execution_count": null,
   "metadata": {
    "collapsed": false,
    "pycharm": {
     "name": "#%%\n"
    }
   },
   "outputs": [
    {
     "name": "stdout",
     "output_type": "stream",
     "text": [
      "              precision    recall  f1-score   support\n",
      "\n",
      "           0       0.93      0.83      0.88      1305\n",
      "           1       0.86      0.94      0.90      1442\n",
      "\n",
      "    accuracy                           0.89      2747\n",
      "   macro avg       0.90      0.89      0.89      2747\n",
      "weighted avg       0.89      0.89      0.89      2747\n",
      "\n",
      "[[1087  218]\n",
      " [  83 1359]]\n"
     ]
    }
   ],
   "source": [
    "print( classification_report(y_sub_test, prediction_test) )\n",
    "print( confusion_matrix(y_sub_test, prediction_test) )"
   ]
  },
  {
   "cell_type": "code",
   "execution_count": null,
   "metadata": {
    "collapsed": false,
    "pycharm": {
     "name": "#%%\n"
    }
   },
   "outputs": [
    {
     "name": "stdout",
     "output_type": "stream",
     "text": [
      "[0.10009328 0.90360198 0.82272043 ... 0.68838142 0.22531637 0.03597235]\n"
     ]
    }
   ],
   "source": [
    "y_score = model.predict_proba(X_sub_train)[:,1]\n",
    "print(y_score)"
   ]
  },
  {
   "cell_type": "code",
   "execution_count": null,
   "metadata": {
    "collapsed": false,
    "pycharm": {
     "name": "#%%\n"
    }
   },
   "outputs": [],
   "source": [
    "thres = 0.2\n",
    "prediction_high_recall = (y_score > thres).astype(int)"
   ]
  },
  {
   "cell_type": "code",
   "execution_count": null,
   "metadata": {
    "collapsed": false,
    "pycharm": {
     "name": "#%%\n"
    }
   },
   "outputs": [
    {
     "name": "stdout",
     "output_type": "stream",
     "text": [
      "              precision    recall  f1-score   support\n",
      "\n",
      "           0       0.99      0.46      0.63      5008\n",
      "           1       0.68      1.00      0.81      5699\n",
      "\n",
      "    accuracy                           0.75     10707\n",
      "   macro avg       0.83      0.73      0.72     10707\n",
      "weighted avg       0.82      0.75      0.72     10707\n",
      "\n",
      "[[2299 2709]\n",
      " [  17 5682]]\n"
     ]
    }
   ],
   "source": [
    "print( classification_report(y_sub_train, prediction_high_recall) )\n",
    "print( confusion_matrix(y_sub_train, prediction_high_recall) )"
   ]
  },
  {
   "cell_type": "code",
   "execution_count": null,
   "metadata": {
    "collapsed": false,
    "pycharm": {
     "name": "#%%\n"
    }
   },
   "outputs": [],
   "source": [
    "meta_features = np.hstack((prediction_high_recall.reshape(-1,1),\n",
    "                           X_sub_train))\n",
    "meta_labels = prediction_high_recall & y_sub_train"
   ]
  },
  {
   "cell_type": "code",
   "execution_count": null,
   "metadata": {
    "collapsed": false,
    "pycharm": {
     "name": "#%%\n"
    }
   },
   "outputs": [
    {
     "name": "stderr",
     "output_type": "stream",
     "text": [
      "/workspace1/liufengyuan/.local/lib/python3.6/site-packages/sklearn/linear_model/_logistic.py:765: ConvergenceWarning: lbfgs failed to converge (status=1):\n",
      "STOP: TOTAL NO. of ITERATIONS REACHED LIMIT.\n",
      "\n",
      "Increase the number of iterations (max_iter) or scale the data as shown in:\n",
      "    https://scikit-learn.org/stable/modules/preprocessing.html\n",
      "Please also refer to the documentation for alternative solver options:\n",
      "    https://scikit-learn.org/stable/modules/linear_model.html#logistic-regression\n",
      "  extra_warning_msg=_LOGISTIC_SOLVER_CONVERGENCE_MSG)\n"
     ]
    },
    {
     "data": {
      "text/plain": [
       "LogisticRegression()"
      ]
     },
     "execution_count": 19,
     "metadata": {},
     "output_type": "execute_result"
    }
   ],
   "source": [
    "meta_model = LogisticRegression()\n",
    "meta_model.fit( meta_features, meta_labels)"
   ]
  },
  {
   "cell_type": "code",
   "execution_count": null,
   "metadata": {
    "collapsed": false,
    "pycharm": {
     "name": "#%%\n"
    }
   },
   "outputs": [],
   "source": [
    "meta_prediction = meta_model.predict(meta_features)\n",
    "final_prediction = meta_prediction & prediction_high_recall"
   ]
  },
  {
   "cell_type": "code",
   "execution_count": null,
   "metadata": {
    "collapsed": false,
    "pycharm": {
     "name": "#%%\n"
    }
   },
   "outputs": [
    {
     "name": "stdout",
     "output_type": "stream",
     "text": [
      "              precision    recall  f1-score   support\n",
      "\n",
      "           0       0.97      0.97      0.97      5008\n",
      "           1       0.97      0.97      0.97      5699\n",
      "\n",
      "    accuracy                           0.97     10707\n",
      "   macro avg       0.97      0.97      0.97     10707\n",
      "weighted avg       0.97      0.97      0.97     10707\n",
      "\n",
      "[[4854  154]\n",
      " [ 146 5553]]\n"
     ]
    }
   ],
   "source": [
    "print( classification_report(y_sub_train, final_prediction) )\n",
    "print( confusion_matrix(y_sub_train, final_prediction) )"
   ]
  },
  {
   "cell_type": "code",
   "execution_count": null,
   "metadata": {
    "collapsed": false,
    "pycharm": {
     "name": "#%%\n"
    }
   },
   "outputs": [],
   "source": []
  },
  {
   "cell_type": "code",
   "execution_count": null,
   "metadata": {
    "collapsed": false,
    "pycharm": {
     "name": "#%%\n"
    }
   },
   "outputs": [],
   "source": []
  }
 ],
 "metadata": {
  "kernelspec": {
   "display_name": "Python 3.6.9 64-bit",
   "language": "python",
   "name": "python3"
  },
  "language_info": {
   "codemirror_mode": {
    "name": "ipython",
    "version": 3
   },
   "file_extension": ".py",
   "mimetype": "text/x-python",
   "name": "python",
   "nbconvert_exporter": "python",
   "pygments_lexer": "ipython3",
   "version": "3.6.9"
  },
  "vscode": {
   "interpreter": {
    "hash": "31f2aee4e71d21fbe5cf8b01ff0e069b9275f58929596ceb00d14d90e3e16cd6"
   }
  }
 },
 "nbformat": 4,
 "nbformat_minor": 0
}